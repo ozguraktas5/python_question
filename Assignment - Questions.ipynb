{
 "cells": [
  {
   "cell_type": "markdown",
   "id": "bb5fd8fe",
   "metadata": {},
   "source": [
    "1 .Given a string of odd length greater than 5, return a new string made of the middle three characters of a given String:\n",
    "Example:\n",
    "\n",
    "\"Murat\" >>> \"ura\"\n",
    "\"Techpro\" >>> \"chp\" "
   ]
  },
  {
   "cell_type": "code",
   "execution_count": 15,
   "id": "200330a8",
   "metadata": {},
   "outputs": [
    {
     "name": "stdout",
     "output_type": "stream",
     "text": [
      "chp\n"
     ]
    }
   ],
   "source": [
    "item = input()\n",
    "\n",
    "letter_list = []\n",
    "if len(item)>=5 and len(item) % 2 == 1:\n",
    "    letter_list.append(item[(len(item)//2)-1])\n",
    "    letter_list.append(item[len(item)//2])\n",
    "    letter_list.append(item[(len(item)//2)+1])\n",
    "\n",
    "print(\"\".join(letter_list))\n",
    " \n",
    "        \n",
    "        "
   ]
  },
  {
   "cell_type": "markdown",
   "id": "bac258c8",
   "metadata": {},
   "source": [
    "2. Kullanıcıdan bir sayı alın. Ve geriye doğru saymasını sağlayın. Aralarda \"*\" işareti olacaktır. En sonunda ise \"GO!\" ifadesi.\n",
    "\n",
    "Example:\n",
    "input >> 3\n",
    "output >> '3*2*1*GO!'"
   ]
  },
  {
   "cell_type": "code",
   "execution_count": 23,
   "id": "548b905f",
   "metadata": {},
   "outputs": [
    {
     "name": "stdout",
     "output_type": "stream",
     "text": [
      "10987654321*GO!\n"
     ]
    }
   ],
   "source": [
    "number = int(input())\n",
    "\n",
    "item = \"\"\n",
    "for i in range(number,0,-1):\n",
    "    item += str(i)\n",
    "item += \"*GO!\"\n",
    "print(item)"
   ]
  },
  {
   "cell_type": "markdown",
   "id": "d4504fd6",
   "metadata": {},
   "source": [
    "3. Write a Python program to remove all elements from a given list present in another list. Go to the editor\n",
    "Original lists:\n",
    "list1: [1, 2, 3, 4, 5, 6, 7, 8, 9, 10]\n",
    "list2: [2, 4, 6, 8]\n",
    "Remove all elements from 'list1' present in 'list2:\n",
    "[1, 3, 5, 7, 9, 10]"
   ]
  },
  {
   "cell_type": "code",
   "execution_count": 26,
   "id": "8c8e0c14",
   "metadata": {},
   "outputs": [
    {
     "name": "stdout",
     "output_type": "stream",
     "text": [
      "[1, 3, 5, 7, 9, 10, 11, 12, 13, 1, 1]\n"
     ]
    }
   ],
   "source": [
    "list1 = [1,2,3,4,5,6,7,8,9,10,11,12,13,1,1,2,2]\n",
    "list2 = [2,4,6,8]\n",
    "\n",
    "empty_list = []\n",
    "for i in list1:\n",
    "    if i not in list2:\n",
    "        empty_list.append(i)\n",
    "print(empty_list)\n",
    "    "
   ]
  },
  {
   "cell_type": "markdown",
   "id": "5deef34a",
   "metadata": {},
   "source": [
    "4 - Negatif olmayan iki sayı alınız ve bu iki sayı arasındaki sayılardan tek olanları key, karelerini de value olacak şekilde sözlük haline getiren bir fonksiyon yazınız. (Sayıların kendileri dahil!)\n",
    "\n",
    "Example:\n",
    "keyvalue(12,5)\n",
    "\n",
    "{5: 25, 7: 49, 9: 81, 11: 121}"
   ]
  },
  {
   "cell_type": "code",
   "execution_count": 55,
   "id": "392998d1",
   "metadata": {},
   "outputs": [
    {
     "name": "stdout",
     "output_type": "stream",
     "text": [
      "{5: 25, 7: 49, 9: 81, 11: 121, 13: 169, 15: 225, 17: 289, 19: 361}\n"
     ]
    }
   ],
   "source": [
    "my_dict = {}\n",
    "def two_number(i,j):\n",
    "    if i>0 and j>0:\n",
    "        for k in range(i,j-1,-1):\n",
    "            if k % 2 == 1:\n",
    "               my_dict.update({k:k**2})\n",
    "               my_dict\n",
    "               \n",
    "    else:\n",
    "        print(\"please enter positive number\")\n",
    "        \n",
    "two_number(20,5)\n",
    "sorted_dict = {k: my_dict[k] for k in sorted(my_dict)}\n",
    "print(sorted_dict)"
   ]
  },
  {
   "cell_type": "markdown",
   "id": "903f7ae5",
   "metadata": {},
   "source": [
    "5 - Ardışık sıfırlar ve birler:\n",
    "\n",
    "Bu sorunun amacı, yalnızca sıfırlar ve birlerden oluşan bir ikili diziyi analiz etmektir. Kodunuz, dizedeki en büyük ardışık sıfır ve birlerin sayısını bulmalıdır. Örneğin, dize verildiğinde:\n",
    "\n",
    "\"1001101000110\" Ardışık sıfırların en büyük sayısı 3'tür.\n",
    "\n",
    "\"1001101000110\" Ardışık birlerin en büyük sayısı 2'dir.\n",
    "\n",
    "Sıfırlar ve birler dizisi olan tek bir parametre alan ardışık_sıfırlar adlı bir fonksiyon tanımlayın."
   ]
  },
  {
   "cell_type": "code",
   "execution_count": 6,
   "id": "83823ad3",
   "metadata": {},
   "outputs": [
    {
     "name": "stdout",
     "output_type": "stream",
     "text": [
      "Ardisik sifirlarin en büyük sayisi: 2\n",
      "Ardisik birlerin en büyük sayisi: 4\n"
     ]
    }
   ],
   "source": [
    "def sifirlar(sayi):\n",
    "    maksimum_sifir = 0\n",
    "    current_sifir = 0\n",
    "    \n",
    "    for i in sayi:\n",
    "        if i == \"0\":\n",
    "            current_sifir += 1\n",
    "            maksimum_sifir = max(maksimum_sifir, current_sifir)\n",
    "        else:\n",
    "            current_sifir = 0\n",
    "    return maksimum_sifir\n",
    "\n",
    "def birler(sayi):\n",
    "    maksimum_bir = 0\n",
    "    current_bir = 0\n",
    "    \n",
    "    for i in sayi:\n",
    "        if i == \"1\":\n",
    "            current_bir += 1\n",
    "            maksimum_bir = max(maksimum_bir, current_bir)\n",
    "        else:\n",
    "            current_bir = 0\n",
    "    return maksimum_bir\n",
    "\n",
    "sayi = \"101111010010111\"\n",
    "\n",
    "print(\"Ardisik sifirlarin en büyük sayisi:\", sifirlar(sayi))\n",
    "print(\"Ardisik birlerin en büyük sayisi:\", birler(sayi))"
   ]
  },
  {
   "cell_type": "markdown",
   "id": "26614e94",
   "metadata": {},
   "source": [
    "6- \n",
    "Parametre olarak negatif olmayan bir sayı alan \"format_number\" adında bir fonksiyon yazın.\n",
    "\n",
    "Fonksiyonunuz sayıyı bir stringe dönüştürmeli ve binlik ayırıcı olarak virgül eklemelidir.\n",
    "\n",
    "Örneğin, format_number(1000000) Output: \"1,000,000\" çıktısını vermelidir."
   ]
  },
  {
   "cell_type": "code",
   "execution_count": 19,
   "id": "d4efed96",
   "metadata": {},
   "outputs": [
    {
     "data": {
      "text/plain": [
       "'100,000,000'"
      ]
     },
     "execution_count": 19,
     "metadata": {},
     "output_type": "execute_result"
    }
   ],
   "source": [
    "def format_number(sayi):\n",
    "    if sayi < 0:\n",
    "        return (\"Negatif sayi girilmez\")\n",
    "    \n",
    "    sayi = str(sayi)[::-1]\n",
    "    string = \"\"\n",
    "    for i in range(len(sayi)):\n",
    "        if i > 0 and i % 3 == 0:\n",
    "            string += \",\"\n",
    "        string += sayi[i]\n",
    "        \n",
    "    return string[::-1]\n",
    "        \n",
    "format_number(100000000)\n"
   ]
  },
  {
   "cell_type": "markdown",
   "id": "52dc60b7",
   "metadata": {},
   "source": [
    "7-\n",
    "Kullanıcıdan alınan bir text dizisinin tüm noktalama işaretlerini temizleyen bir fonksiyon yazınız.\n",
    "Example:\n",
    "cleaning(\"nas,ıls..ın\") >>> \"nasılsın\""
   ]
  },
  {
   "cell_type": "code",
   "execution_count": 24,
   "id": "00a9c818",
   "metadata": {},
   "outputs": [
    {
     "data": {
      "text/plain": [
       "'nasılsın'"
      ]
     },
     "execution_count": 24,
     "metadata": {},
     "output_type": "execute_result"
    }
   ],
   "source": [
    "def temizle(text):\n",
    "    string = \"\"\n",
    "    for i in text:\n",
    "        if i.isalpha():\n",
    "            string += i\n",
    "    return string\n",
    "temizle(\"nas,ıls..ın\")"
   ]
  },
  {
   "cell_type": "markdown",
   "id": "d7d5f9a8",
   "metadata": {},
   "source": [
    "8-\n",
    "Kullanıcıdan bir sayı girmesini isteyin ve girilen sayıya göre papatya falı döndüren algoritma yazın. Son çıktının tüm karakterlerinin upper olmasına dikkat edin.\n",
    "\n",
    "example:\n",
    "input >> 5\n",
    "output >> ['Loves Me', 'Loves Me Not', 'Loves Me', 'Loves Me Not', 'LOVES ME']"
   ]
  },
  {
   "cell_type": "code",
   "execution_count": 39,
   "id": "1675c738",
   "metadata": {},
   "outputs": [
    {
     "name": "stdout",
     "output_type": "stream",
     "text": [
      "['Loves Me', 'Loves Me Not', 'Loves Me', 'Loves Me Not', 'Loves Me', 'Loves Me Not', 'LOVES ME']\n"
     ]
    }
   ],
   "source": [
    "number = int(input())\n",
    "\n",
    "liste = []\n",
    "for i in range(1,number+1):\n",
    "    if i % 2 == 1:\n",
    "        liste.append(\"Loves Me\")\n",
    "    else:\n",
    "        liste.append(\"Loves Me Not\")\n",
    "\n",
    "liste[-1] = liste[-1].upper()\n",
    "print(liste)"
   ]
  },
  {
   "cell_type": "markdown",
   "id": "573a4d18",
   "metadata": {},
   "source": [
    "9 - Girilen bir sayının basanaklarını toplayan ve her seferinde oluşan yeni sayıya aynı işlemi yapan ve sonuç olarak tek basamaklı sayıya ulaşana kadar bu işlemi yapan ve işlemi kaç kere yaptığını döndüren bir fonksiyon yazın. \n",
    "\n",
    "Example\n",
    "\n",
    "input >> 142536\n",
    "process\n",
    "1 -  1+4+2+5+3+6 = 21\n",
    "2 -  2+1 = 3\n",
    "\n",
    "iki kere de işlem tamamlandı"
   ]
  },
  {
   "cell_type": "code",
   "execution_count": 4,
   "id": "3dd36d82",
   "metadata": {},
   "outputs": [
    {
     "name": "stdout",
     "output_type": "stream",
     "text": [
      "İşlem 1 adimda tamamlandi\n"
     ]
    }
   ],
   "source": [
    "def basamak_toplami(number):\n",
    "    def toplam_basamak(a):\n",
    "        toplam = 0\n",
    "        while a>0:\n",
    "            toplam += a%10\n",
    "            a //= 10\n",
    "        return toplam\n",
    "    \n",
    "    adim = 0\n",
    "    while number >= 10:\n",
    "        number = toplam_basamak(number)\n",
    "        adim += 1\n",
    "        \n",
    "    return adim\n",
    "user_number = int(input())\n",
    "\n",
    "adim_sayisi = basamak_toplami(user_number)\n",
    "print(f\"İşlem {adim_sayisi} adimda tamamlandi\")"
   ]
  },
  {
   "cell_type": "markdown",
   "id": "f75b8f0f",
   "metadata": {},
   "source": [
    "10 - Write a function that sorts the odd numbers in ascending order that leaves the even numbers in their original positions in a given string of numbers.\n",
    "\n",
    "Example:\n",
    "\n",
    "[7, 1] => [1, 7]\n",
    "\n",
    "[5, 8, 6, 3, 4] => [3, 8, 6, 5, 4]\n",
    "\n",
    "[9, 8, 7, 6, 5, 4, 3, 2, 1, 0] => [1, 8, 3, 6, 5, 4, 7, 2, 9, 0]"
   ]
  },
  {
   "cell_type": "code",
   "execution_count": 8,
   "id": "9d37421c",
   "metadata": {},
   "outputs": [
    {
     "data": {
      "text/plain": [
       "[3, 8, 6, 5, 4]"
      ]
     },
     "execution_count": 8,
     "metadata": {},
     "output_type": "execute_result"
    }
   ],
   "source": [
    "def dizi(numbers):\n",
    "    tek = [i for i in numbers if i%2==1]\n",
    "    tek_sirala = sorted(tek)\n",
    "    \n",
    "    empty_list = []\n",
    "    i = 0\n",
    "    for j in numbers:\n",
    "        if j%2 == 1:\n",
    "            empty_list.append(tek_sirala[i])\n",
    "            i+=1\n",
    "        else:\n",
    "            empty_list.append(j)\n",
    "    return empty_list\n",
    "\n",
    "dizi([5,8,6,3,4])"
   ]
  },
  {
   "cell_type": "markdown",
   "id": "0de6ca91",
   "metadata": {},
   "source": [
    "11 - bir fonksiyon yazın. İçerisine girilen string ifadenin her seferinde sırayla bir harfini büyük yazdırsın. Sonuç olarak liste döndürsün. Punctuation lar işleme dahil edilmemelidir.\n",
    "\n",
    "Example:\n",
    "input >> ankara\n",
    "\n",
    "output >> ['Ankara', 'aNkara', 'anKara', 'ankAra', 'ankaRa', 'ankarA']"
   ]
  },
  {
   "cell_type": "code",
   "execution_count": 7,
   "id": "23ea59c8",
   "metadata": {},
   "outputs": [
    {
     "name": "stdout",
     "output_type": "stream",
     "text": [
      "['Ankara', 'aNkara', 'anKara', 'ankAra', 'ankaRa', 'ankarA']\n"
     ]
    }
   ],
   "source": [
    "def word(kelime):\n",
    "    empty_list = []\n",
    "    if kelime.isalpha():\n",
    "        for i in range(len(kelime)):\n",
    "            empty_list.append(kelime[:i] + kelime[i].upper() + kelime[i+1:])\n",
    "        \n",
    "        print(empty_list)\n",
    "    else:\n",
    "        print(\"Lütfen numerik rakam girmeyin.\")\n",
    "        \n",
    "word(\"ankara\")        "
   ]
  },
  {
   "cell_type": "markdown",
   "id": "1e98a1a3",
   "metadata": {},
   "source": [
    "12 - Write a function, which takes a non-negative integer (seconds) as input and returns the time in a human-readable format (HH:MM:SS)\n",
    "\n",
    "HH = hours, padded to 2 digits, range: 00 - 99\n",
    "MM = minutes, padded to 2 digits, range: 00 - 59\n",
    "SS = seconds, padded to 2 digits, range: 00 - 59\n",
    "The maximum time never exceeds 359999 (99:59:59)\n",
    "[bağlantı metni](https://www.codewars.com/kata/52685f7382004e774f0001f7)"
   ]
  },
  {
   "cell_type": "code",
   "execution_count": 16,
   "id": "9c0eb1c8",
   "metadata": {},
   "outputs": [
    {
     "data": {
      "text/plain": [
       "'02:22:12'"
      ]
     },
     "execution_count": 16,
     "metadata": {},
     "output_type": "execute_result"
    }
   ],
   "source": [
    "def human(deger):\n",
    "    saat = deger // 3600\n",
    "    dakika = (deger % 3600) // 60\n",
    "    saniye = deger % 60\n",
    "    \n",
    "    return f\"{saat:02d}:{dakika}:{saniye}\"\n",
    "\n",
    "human(8532)"
   ]
  },
  {
   "cell_type": "markdown",
   "id": "3ecf0ab9",
   "metadata": {},
   "source": [
    "13 - Write a function scramble(str1, str2) that returns true if some of the str 1 characters can be rearranged to match str 2, false otherwise\n",
    "#Note >> Only lower case letters will be used (a-z). No punctuation or digits will be included.\n",
    "\n",
    "#Examples\n",
    "#scramble('rkqodlw', 'world') ==> True\n",
    "#scramble('katas', 'steak') ==> False"
   ]
  },
  {
   "cell_type": "code",
   "execution_count": null,
   "id": "0d3f0772",
   "metadata": {},
   "outputs": [],
   "source": []
  },
  {
   "cell_type": "markdown",
   "id": "c0900727",
   "metadata": {},
   "source": [
    "14 - 1 den 100 e kadar olan sayılardaki asal sayıları bulun. \n",
    "\n",
    "Output >>> [2, 3, 5, 7, 11, 13, 17, 19, 23, 29, 31, 37, 41, 43, 47, 53, 59, 61, 67, 71, 73, 79, 83, 89, 97]"
   ]
  },
  {
   "cell_type": "code",
   "execution_count": null,
   "id": "5b6cc46c",
   "metadata": {},
   "outputs": [],
   "source": []
  },
  {
   "cell_type": "markdown",
   "id": "e8a6836f",
   "metadata": {},
   "source": [
    "15 - ```\n",
    "7- Once upon a time, on a way through the old wild mountainous west,…\n",
    "… a man was given directions to go from one point to another. The directions were \"NORTH\", \"SOUTH\", \"WEST\", \"EAST\". Clearly \"NORTH\" and \"SOUTH\" are opposite, \"WEST\" and \"EAST\" too.\n",
    "\n",
    "Going to one direction and coming back the opposite direction right away is a needless effort. Since this is the wild west, with dreadfull weather and not much water, it's important to save yourself some energy, otherwise you might die of thirst!\n",
    "\n",
    "How I crossed a mountainous desert the smart way.\n",
    "The directions given to the man are, for example, the following (depending on the language):\n",
    "\n",
    "[\"NORTH\", \"SOUTH\", \"SOUTH\", \"EAST\", \"WEST\", \"NORTH\", \"WEST\"].\n",
    "or\n",
    "{ \"NORTH\", \"SOUTH\", \"SOUTH\", \"EAST\", \"WEST\", \"NORTH\", \"WEST\" };\n",
    "or\n",
    "[North, South, South, East, West, North, West]\n",
    "You can immediatly see that going \"NORTH\" and immediately \"SOUTH\" is not reasonable, better stay to the same place! So the task is to give to the man a simplified version of the plan. A better plan in this case is simply:\n",
    "\n",
    "[\"WEST\"]\n",
    "or\n",
    "{ \"WEST\" }\n",
    "or\n",
    "[West]\n",
    "Other examples:\n",
    "In [\"NORTH\", \"SOUTH\", \"EAST\", \"WEST\"], the direction \"NORTH\" + \"SOUTH\" is going north and coming back right away.\n",
    "\n",
    "The path becomes [\"EAST\", \"WEST\"], now \"EAST\" and \"WEST\" annihilate each other, therefore, the final result is [] (nil in Clojure).\n",
    "\n",
    "In [\"NORTH\", \"EAST\", \"WEST\", \"SOUTH\", \"WEST\", \"WEST\"], \"NORTH\" and \"SOUTH\" are not directly opposite but they become directly opposite after the reduction of \"EAST\" and \"WEST\" so the whole path is reducible to [\"WEST\", \"WEST\"].\n",
    "\n",
    "Task\n",
    "Write a function dirReduc which will take an array of strings and returns an array of strings with the needless directions removed (W<->E or S<->N side by side).\n",
    "\n",
    "The Haskell version takes a list of directions with data Direction = North | East | West | South.\n",
    "The Clojure version returns nil when the path is reduced to nothing.\n",
    "The Rust version takes a slice of enum Direction {North, East, West, South}.\n",
    "See more examples in \"Sample Tests:\"\n",
    "Notes\n",
    "Not all paths can be made simpler. The path [\"NORTH\", \"WEST\", \"SOUTH\", \"EAST\"] is not reducible. \"NORTH\" and \"WEST\", \"WEST\" and \"SOUTH\", \"SOUTH\" and \"EAST\" are not directly opposite of each other and can't become such. Hence the result path is itself : [\"NORTH\", \"WEST\", \"SOUTH\", \"EAST\"].\n",
    "```\n",
    "\n",
    "\n"
   ]
  },
  {
   "cell_type": "code",
   "execution_count": null,
   "id": "9545c229",
   "metadata": {},
   "outputs": [],
   "source": []
  }
 ],
 "metadata": {
  "kernelspec": {
   "display_name": "Python 3 (ipykernel)",
   "language": "python",
   "name": "python3"
  },
  "language_info": {
   "codemirror_mode": {
    "name": "ipython",
    "version": 3
   },
   "file_extension": ".py",
   "mimetype": "text/x-python",
   "name": "python",
   "nbconvert_exporter": "python",
   "pygments_lexer": "ipython3",
   "version": "3.11.4"
  }
 },
 "nbformat": 4,
 "nbformat_minor": 5
}
