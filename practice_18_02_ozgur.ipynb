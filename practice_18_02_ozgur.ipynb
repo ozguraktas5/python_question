{
 "cells": [
  {
   "cell_type": "code",
   "execution_count": 3,
   "metadata": {},
   "outputs": [
    {
     "name": "stdout",
     "output_type": "stream",
     "text": [
      "toplam  : 9.0\n"
     ]
    }
   ],
   "source": [
    "sayi_1 = int(input(\"Sayi-1:\"))\n",
    "sayi_2 = int(input(\"Sayi-2:\"))\n",
    "\n",
    "toplam = float(sayi_1 + sayi_2)\n",
    "print(\"toplam  : {}\".format(toplam))\n"
   ]
  },
  {
   "cell_type": "code",
   "execution_count": 4,
   "metadata": {},
   "outputs": [
    {
     "name": "stdout",
     "output_type": "stream",
     "text": [
      "çarpım: 16\n"
     ]
    }
   ],
   "source": [
    "sayi1 = int(input(\"Birinci sayıyı girin:\"))\n",
    "sayi2 = int(input(\"İkinci sayıyı girin:\"))\n",
    "\n",
    "print(\"çarpım: {}\".format((sayi1 ** 2) - (sayi2 ** 2)))"
   ]
  },
  {
   "cell_type": "code",
   "execution_count": 9,
   "metadata": {},
   "outputs": [
    {
     "name": "stdout",
     "output_type": "stream",
     "text": [
      "Ürün fiyatı: 18\n",
      "Geriye kalan para: 2\n"
     ]
    }
   ],
   "source": [
    "para = 200\n",
    "\n",
    "print(\"Ürün fiyatı:\", para // 11)\n",
    "print(\"Geriye kalan para:\", para % 18)\n"
   ]
  },
  {
   "cell_type": "code",
   "execution_count": 18,
   "metadata": {},
   "outputs": [
    {
     "name": "stdout",
     "output_type": "stream",
     "text": [
      "20 10\n"
     ]
    }
   ],
   "source": [
    "number1 = int(input(\"Sayı:\"))\n",
    "number2 = int(input(\"Sayı:\"))\n",
    "\n",
    "number1,number2 = number2,number1\n",
    "print(number1,number2)\n",
    "\n",
    "\n",
    "\n"
   ]
  },
  {
   "cell_type": "code",
   "execution_count": 26,
   "metadata": {},
   "outputs": [
    {
     "name": "stdout",
     "output_type": "stream",
     "text": [
      "gürgürgür\n"
     ]
    }
   ],
   "source": [
    "kelime = input(\"String:\")\n",
    "tamsayi = int(input(\"Tamsayı:\"))\n",
    "\n",
    "print(kelime[-tamsayi:] * (tamsayi))"
   ]
  },
  {
   "cell_type": "code",
   "execution_count": 39,
   "metadata": {},
   "outputs": [
    {
     "name": "stdout",
     "output_type": "stream",
     "text": [
      "özgür*özgür*özgür\n"
     ]
    }
   ],
   "source": [
    "kelime = input(\"Kelime:\")\n",
    "sep = input(\"Sep:\") \n",
    "tekrar = int(input(\"Tekrar:\"))\n",
    "\n",
    "print(((kelime + sep) * tekrar).rstrip(sep))"
   ]
  },
  {
   "cell_type": "code",
   "execution_count": 41,
   "metadata": {},
   "outputs": [
    {
     "data": {
      "text/plain": [
       "'bunu yazdır'"
      ]
     },
     "execution_count": 41,
     "metadata": {},
     "output_type": "execute_result"
    }
   ],
   "source": [
    "not 0 and \"bunu yazdır\""
   ]
  },
  {
   "cell_type": "code",
   "execution_count": 42,
   "metadata": {},
   "outputs": [
    {
     "data": {
      "text/plain": [
       "True"
      ]
     },
     "execution_count": 42,
     "metadata": {},
     "output_type": "execute_result"
    }
   ],
   "source": [
    "not 1 and \"\" or 14 and not 0"
   ]
  },
  {
   "cell_type": "code",
   "execution_count": 46,
   "metadata": {},
   "outputs": [
    {
     "name": "stdout",
     "output_type": "stream",
     "text": [
      "False\n"
     ]
    }
   ],
   "source": [
    "sayi1 = int(input(\"Sayı-1:\"))\n",
    "sayi2 = int(input(\"Sayı-2:\"))\n",
    "\n",
    "if sayi1 == sayi2 or ((sayi1 - sayi2) % 5 == 0):\n",
    "    print(\"True\")\n",
    "else:\n",
    "    print(\"False\")"
   ]
  },
  {
   "cell_type": "code",
   "execution_count": 49,
   "metadata": {},
   "outputs": [
    {
     "name": "stdout",
     "output_type": "stream",
     "text": [
      "False\n"
     ]
    }
   ],
   "source": [
    "sayi1 = int(input(\"Sayı-1:\"))\n",
    "sayi2 = int(input(\"Sayı-2:\"))\n",
    "\n",
    "print(sayi1 == sayi2 or (sayi1 - sayi2) % 5 == 0)"
   ]
  },
  {
   "cell_type": "code",
   "execution_count": null,
   "metadata": {},
   "outputs": [],
   "source": []
  },
  {
   "cell_type": "code",
   "execution_count": null,
   "metadata": {},
   "outputs": [],
   "source": []
  },
  {
   "attachments": {},
   "cell_type": "markdown",
   "metadata": {},
   "source": [
    "Soru1\n",
    "'Kullanicidan aldiğiniz i̇ki̇ sayinin toplamını format yöntemlerinden biri ile yazdırın.\n",
    " output >> toplam : 9.0"
   ]
  },
  {
   "cell_type": "code",
   "execution_count": 7,
   "metadata": {},
   "outputs": [
    {
     "name": "stdout",
     "output_type": "stream",
     "text": [
      "toplam : 9.0\n"
     ]
    }
   ],
   "source": [
    "sayi_1 = float(input(\"Birinci sayı:\"))\n",
    "sayi_2 = float(input(\"İkinci sayı:\"))\n",
    "\n",
    "print(\"toplam : {}\".format(sayi_1+sayi_2))"
   ]
  },
  {
   "attachments": {},
   "cell_type": "markdown",
   "metadata": {},
   "source": [
    "soru2\n",
    "'Kullanicidan aldiğiniz i̇ki̇ sayinin farki i̇le toplaminin çarpimini bulan bi̇r python kodu yazin'"
   ]
  },
  {
   "cell_type": "code",
   "execution_count": 11,
   "metadata": {},
   "outputs": [
    {
     "name": "stdout",
     "output_type": "stream",
     "text": [
      "carpim: 36\n"
     ]
    }
   ],
   "source": [
    "sayi1 = int(input(\"Sayı:\"))\n",
    "sayi2 = int(input(\"Sayı:\"))\n",
    "carpim = (sayi1 ** 2) - (sayi2 ** 2)\n",
    "print(\"carpim: {}\".format(carpim))"
   ]
  },
  {
   "attachments": {},
   "cell_type": "markdown",
   "metadata": {},
   "source": [
    "soru3\n",
    "200 birim paranız var. fiyatını bilmediğiniz üründen 11 tane alabileceğinizi söyledi satıcı. Ürünün fiyatı nedir?\n",
    "200 birim paranızdan geriye ne kadar kalır?"
   ]
  },
  {
   "cell_type": "code",
   "execution_count": 19,
   "metadata": {},
   "outputs": [
    {
     "name": "stdout",
     "output_type": "stream",
     "text": [
      "Ürün fiyatı: 18 TL\n",
      "Kalan Para: 2 TL\n"
     ]
    }
   ],
   "source": [
    "para = 200\n",
    "ürün_adet = 11\n",
    "\n",
    "ürün_fiyatı = para // ürün_adet\n",
    "kalan_para = para % ürün_adet\n",
    "\n",
    "print(\"Ürün fiyatı:\", ürün_fiyatı, \"TL\\n\"\"Kalan Para:\", kalan_para, \"TL\")"
   ]
  },
  {
   "attachments": {},
   "cell_type": "markdown",
   "metadata": {},
   "source": [
    "soru4\n",
    "Kullanıcıdan iki sayı isteyin ve bu sayıları değişkenlere atayın ve bu değişkenlerin değerlerini birbiriyle değiştirin."
   ]
  },
  {
   "cell_type": "code",
   "execution_count": 21,
   "metadata": {},
   "outputs": [
    {
     "name": "stdout",
     "output_type": "stream",
     "text": [
      "20 10\n"
     ]
    }
   ],
   "source": [
    "degisken_1 = int(input(\"Sayı:\"))\n",
    "degisken_2 = int(input(\"Sayı:\"))\n",
    "\n",
    "degisken_1, degisken_2 = degisken_2, degisken_1\n",
    "print(degisken_1, degisken_2)\n"
   ]
  },
  {
   "attachments": {},
   "cell_type": "markdown",
   "metadata": {},
   "source": [
    "soru5\n",
    "Kullanıcıdan bir string ve bir tamsayı girdisi alın ve örnekteki gibi çıktıyı alın.\n",
    "\n",
    "Ör: kelime = \"TechPro\" sayı = 3 Output >> ProProPro\n",
    "Ör: kelime = \"sedat\" sayı = 2 Output >> atat"
   ]
  },
  {
   "cell_type": "code",
   "execution_count": 26,
   "metadata": {},
   "outputs": [
    {
     "name": "stdout",
     "output_type": "stream",
     "text": [
      "atat\n"
     ]
    }
   ],
   "source": [
    "string = input(\"String:\")\n",
    "tamsayii = int(input(\"Tamsayı:\"))\n",
    "\n",
    "print(string[-tamsayii:] * tamsayii)"
   ]
  },
  {
   "attachments": {},
   "cell_type": "markdown",
   "metadata": {},
   "source": [
    "Soru6\n",
    "Kullanıcıdan kelime, sep ve tekrar_sayısı değerlerini alın ve verilen değerlere göre kelimeyi yazdırın. Ör: kelime = TechPro sep = :) tekrar_sayısı = 3 ----> TechPro:)TechPro:)TechPro"
   ]
  },
  {
   "cell_type": "code",
   "execution_count": 32,
   "metadata": {},
   "outputs": [
    {
     "name": "stdout",
     "output_type": "stream",
     "text": [
      "techpro/techpro/techpro\n"
     ]
    }
   ],
   "source": [
    "kelime = input(\"Kelime:\")\n",
    "sep = input(\"Sep:\")\n",
    "tekrar = int(input(\"Tekrar:\"))\n",
    "\n",
    "print(sep.join([kelime] * tekrar))"
   ]
  },
  {
   "cell_type": "code",
   "execution_count": 35,
   "metadata": {},
   "outputs": [
    {
     "name": "stdout",
     "output_type": "stream",
     "text": [
      "techpro-techpro-techpro\n"
     ]
    }
   ],
   "source": [
    "kelime1 = input(\"Kelime:\")\n",
    "sep1 = input(\"Sep:\")\n",
    "tekrar1 = int(input(\"Tekrar:\"))\n",
    "\n",
    "print(((kelime1 + sep1) * tekrar1).rstrip(sep1))"
   ]
  },
  {
   "attachments": {},
   "cell_type": "markdown",
   "metadata": {},
   "source": [
    "soru7\n",
    "0, and, not ve \"bunu yazdır\" ifadelerini kullanarak çıktı olarak \"bunu yazdır\" döndürün."
   ]
  },
  {
   "cell_type": "code",
   "execution_count": 36,
   "metadata": {},
   "outputs": [
    {
     "data": {
      "text/plain": [
       "'bunu yazdır'"
      ]
     },
     "execution_count": 36,
     "metadata": {},
     "output_type": "execute_result"
    }
   ],
   "source": [
    "not 0 and \"bunu yazdır\""
   ]
  },
  {
   "attachments": {},
   "cell_type": "markdown",
   "metadata": {},
   "source": [
    "soru8\n",
    "kullanıcıdan iki sayı alın. sayılar eşitse veya sayıların farkı 5 in katı ise sonuç olarak True döndüren bir algoritma yazın. değilse Flase döndürsün."
   ]
  },
  {
   "cell_type": "code",
   "execution_count": 39,
   "metadata": {},
   "outputs": [
    {
     "name": "stdout",
     "output_type": "stream",
     "text": [
      "True\n"
     ]
    }
   ],
   "source": [
    "number1 = int(input(\"Number:\"))\n",
    "number2 = int(input(\"Number:\"))\n",
    "\n",
    "if number1 == number2 or (number1 - number2) % 5 == 0:\n",
    "    print(True)\n",
    "else:\n",
    "    print(False)"
   ]
  },
  {
   "cell_type": "code",
   "execution_count": null,
   "metadata": {},
   "outputs": [],
   "source": []
  },
  {
   "cell_type": "code",
   "execution_count": null,
   "metadata": {},
   "outputs": [],
   "source": []
  }
 ],
 "metadata": {
  "kernelspec": {
   "display_name": "base",
   "language": "python",
   "name": "python3"
  },
  "language_info": {
   "codemirror_mode": {
    "name": "ipython",
    "version": 3
   },
   "file_extension": ".py",
   "mimetype": "text/x-python",
   "name": "python",
   "nbconvert_exporter": "python",
   "pygments_lexer": "ipython3",
   "version": "3.9.12"
  },
  "orig_nbformat": 4,
  "vscode": {
   "interpreter": {
    "hash": "875f02f927ff789742ebe739606a64278d49e89bb93d2e50f440b0eaa534aac3"
   }
  }
 },
 "nbformat": 4,
 "nbformat_minor": 2
}
