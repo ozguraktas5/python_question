{
 "cells": [
  {
   "attachments": {},
   "cell_type": "markdown",
   "metadata": {},
   "source": [
    "Tuşların 1 ile 20 arasında sayılar olduğu (her ikisi de dahil) ve değerlerin tuşların karesi olduğu bir sözlük yazdırabilen bir işlev tanımlayın.\n",
    "\n",
    "İpuçları:\n",
    "\n",
    "Bir sözlüğe giriş yapmak için dict[key]=value kalıbını kullanın.\n",
    "Bir sayının kuvvetini almak için ** operatörünü kullanın.\n",
    "Döngüler için range() kullanın."
   ]
  },
  {
   "cell_type": "code",
   "execution_count": 4,
   "metadata": {},
   "outputs": [
    {
     "name": "stdout",
     "output_type": "stream",
     "text": [
      "{1: 1, 2: 4, 3: 9, 4: 16, 5: 25, 6: 36, 7: 49, 8: 64, 9: 81, 10: 100, 11: 121, 12: 144, 13: 169, 14: 196, 15: 225, 16: 256, 17: 289, 18: 324, 19: 361, 20: 400}\n"
     ]
    }
   ],
   "source": [
    "sozluk = dict()\n",
    "for i in range(1,21):\n",
    "    sozluk[i] = i ** 2\n",
    "\n",
    "print(sozluk)\n",
    "    "
   ]
  },
  {
   "attachments": {},
   "cell_type": "markdown",
   "metadata": {},
   "source": [
    "Verilen demette (1,2,3,4,5,6,7,8,9,10) değerleri çift sayılar olan başka bir demet üretip yazdıran bir program yazın.\n",
    "\n",
    "İpuçları:\n",
    "\n",
    "Tuple'ı yinelemek için \"for\" kullanın\n",
    "Bir listeden bir demet oluşturmak için tuple() öğesini kullanın."
   ]
  },
  {
   "cell_type": "code",
   "execution_count": 6,
   "metadata": {},
   "outputs": [
    {
     "name": "stdout",
     "output_type": "stream",
     "text": [
      "(2, 4, 6, 8, 10)\n"
     ]
    }
   ],
   "source": [
    "empty_list = []\n",
    "\n",
    "for i in range(1,11):\n",
    "    if i%2 == 0:\n",
    "        empty_list.append(i)\n",
    "        x = tuple(empty_list)\n",
    "print(x)"
   ]
  },
  {
   "cell_type": "code",
   "execution_count": null,
   "metadata": {},
   "outputs": [],
   "source": []
  }
 ],
 "metadata": {
  "kernelspec": {
   "display_name": "base",
   "language": "python",
   "name": "python3"
  },
  "language_info": {
   "codemirror_mode": {
    "name": "ipython",
    "version": 3
   },
   "file_extension": ".py",
   "mimetype": "text/x-python",
   "name": "python",
   "nbconvert_exporter": "python",
   "pygments_lexer": "ipython3",
   "version": "3.9.12"
  },
  "orig_nbformat": 4
 },
 "nbformat": 4,
 "nbformat_minor": 2
}
