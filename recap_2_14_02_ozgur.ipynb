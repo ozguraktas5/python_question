{
 "cells": [
  {
   "cell_type": "code",
   "execution_count": null,
   "metadata": {},
   "outputs": [],
   "source": [
    "# 8765 sn kaç saat kaç dakika ve kaç saniyedir ?"
   ]
  },
  {
   "cell_type": "code",
   "execution_count": 2,
   "metadata": {},
   "outputs": [
    {
     "name": "stdout",
     "output_type": "stream",
     "text": [
      "2 saat 26 dakika 5 saniye\n"
     ]
    }
   ],
   "source": [
    "a = 8765\n",
    "print(a // 3600, \"saat\" ,int((a % 3600) / 60), \"dakika\", (a % 3600) % 60, \"saniye\")"
   ]
  },
  {
   "cell_type": "code",
   "execution_count": 1,
   "metadata": {},
   "outputs": [
    {
     "name": "stdout",
     "output_type": "stream",
     "text": [
      "8765 saniye: 2 saat 26 dakika 5 saniye eder.\n"
     ]
    }
   ],
   "source": [
    "verilen_saniye = 8765\n",
    "saat = (verilen_saniye // 3600)\n",
    "dakika = (verilen_saniye % 3600) // 60\n",
    "saniye = (verilen_saniye % 3600) % 60\n",
    "print(verilen_saniye, \"saniye:\", saat, \"saat\", dakika, \"dakika\", saniye, \"saniye eder.\")"
   ]
  },
  {
   "cell_type": "code",
   "execution_count": 3,
   "metadata": {},
   "outputs": [
    {
     "name": "stdout",
     "output_type": "stream",
     "text": [
      "8765 saniye: 2 saat 26 dakika 5 saniye eder.\n"
     ]
    }
   ],
   "source": [
    "print(f\"{verilen_saniye} saniye: {saat} saat {dakika} dakika {saniye} saniye eder.\")"
   ]
  },
  {
   "cell_type": "code",
   "execution_count": 4,
   "metadata": {},
   "outputs": [
    {
     "name": "stdout",
     "output_type": "stream",
     "text": [
      "None or 1\n"
     ]
    }
   ],
   "source": [
    "print(\"None or 1\")"
   ]
  },
  {
   "cell_type": "code",
   "execution_count": 5,
   "metadata": {},
   "outputs": [
    {
     "ename": "NameError",
     "evalue": "name 'salise' is not defined",
     "output_type": "error",
     "traceback": [
      "\u001b[1;31m---------------------------------------------------------------------------\u001b[0m",
      "\u001b[1;31mNameError\u001b[0m                                 Traceback (most recent call last)",
      "\u001b[1;32mc:\\Users\\ozgur\\OneDrive\\Masaüstü\\Özgür Kodlar Python\\recap_2_14_02_ozgur.ipynb Cell 6\u001b[0m in \u001b[0;36m<cell line: 1>\u001b[1;34m()\u001b[0m\n\u001b[1;32m----> <a href='vscode-notebook-cell:/c%3A/Users/ozgur/OneDrive/Masa%C3%BCst%C3%BC/%C3%96zg%C3%BCr%20Kodlar%20Python/recap_2_14_02_ozgur.ipynb#X13sZmlsZQ%3D%3D?line=0'>1</a>\u001b[0m \u001b[39mprint\u001b[39m(\u001b[39mf\u001b[39m\u001b[39m\"\u001b[39m\u001b[39m{\u001b[39;00mverilen_saniye\u001b[39m}\u001b[39;00m\u001b[39m saniye: \u001b[39m\u001b[39m{\u001b[39;00msalise\u001b[39m}\u001b[39;00m\u001b[39m saat \u001b[39m\u001b[39m{\u001b[39;00mdakika\u001b[39m}\u001b[39;00m\u001b[39m dakika \u001b[39m\u001b[39m{\u001b[39;00msaniye\u001b[39m}\u001b[39;00m\u001b[39m saniye eder.\u001b[39m\u001b[39m\"\u001b[39m)\n",
      "\u001b[1;31mNameError\u001b[0m: name 'salise' is not defined"
     ]
    }
   ],
   "source": [
    "print(f\"{verilen_saniye} saniye: {salise} saat {dakika} dakika {saniye} saniye eder.\")"
   ]
  },
  {
   "cell_type": "code",
   "execution_count": 6,
   "metadata": {},
   "outputs": [
    {
     "name": "stdout",
     "output_type": "stream",
     "text": [
      "8765 saniye: 2 saat 26 dakika 5 saniye eder.\n"
     ]
    }
   ],
   "source": [
    "verilen_saniye = 8765\n",
    "saat = (verilen_saniye // 3600)\n",
    "dakika = (verilen_saniye % 3600) // 60\n",
    "saniye = (verilen_saniye % 3600) % 60\n",
    "print(verilen_saniye, \"saniye:\", saat, \"saat\", dakika, \"dakika\", saniye, \"saniye eder.\")"
   ]
  },
  {
   "cell_type": "code",
   "execution_count": 7,
   "metadata": {},
   "outputs": [
    {
     "name": "stdout",
     "output_type": "stream",
     "text": [
      "8765 saniye: 2 saat 26 dakika 5 saniye eder.\n"
     ]
    }
   ],
   "source": [
    "print(\"{} saniye: {} saat {} dakika {} saniye eder.\".format(verilen_saniye, saat, dakika, saniye))"
   ]
  },
  {
   "cell_type": "code",
   "execution_count": 8,
   "metadata": {},
   "outputs": [
    {
     "name": "stdout",
     "output_type": "stream",
     "text": [
      "8765 saniye: 2 saat 26 dakika 5 saniye eder.\n"
     ]
    }
   ],
   "source": [
    "print(\"{} saniye: {} saat {} dakika {} saniye eder.\".format(verilen_saniye, saat, dakika, saniye, saat))"
   ]
  },
  {
   "cell_type": "code",
   "execution_count": 9,
   "metadata": {},
   "outputs": [
    {
     "ename": "IndexError",
     "evalue": "Replacement index 3 out of range for positional args tuple",
     "output_type": "error",
     "traceback": [
      "\u001b[1;31m---------------------------------------------------------------------------\u001b[0m",
      "\u001b[1;31mIndexError\u001b[0m                                Traceback (most recent call last)",
      "\u001b[1;32mc:\\Users\\ozgur\\OneDrive\\Masaüstü\\Özgür Kodlar Python\\recap_2_14_02_ozgur.ipynb Cell 10\u001b[0m in \u001b[0;36m<cell line: 1>\u001b[1;34m()\u001b[0m\n\u001b[1;32m----> <a href='vscode-notebook-cell:/c%3A/Users/ozgur/OneDrive/Masa%C3%BCst%C3%BC/%C3%96zg%C3%BCr%20Kodlar%20Python/recap_2_14_02_ozgur.ipynb#X21sZmlsZQ%3D%3D?line=0'>1</a>\u001b[0m \u001b[39mprint\u001b[39m(\u001b[39m\"\u001b[39;49m\u001b[39m{}\u001b[39;49;00m\u001b[39m saniye: \u001b[39;49m\u001b[39m{}\u001b[39;49;00m\u001b[39m saat \u001b[39;49m\u001b[39m{}\u001b[39;49;00m\u001b[39m dakika \u001b[39;49m\u001b[39m{}\u001b[39;49;00m\u001b[39m saniye eder.\u001b[39;49m\u001b[39m\"\u001b[39;49m\u001b[39m.\u001b[39;49mformat(verilen_saniye, saat, dakika))\n",
      "\u001b[1;31mIndexError\u001b[0m: Replacement index 3 out of range for positional args tuple"
     ]
    }
   ],
   "source": [
    "print(\"{} saniye: {} saat {} dakika {} saniye eder.\".format(verilen_saniye, saat, dakika))"
   ]
  },
  {
   "attachments": {},
   "cell_type": "markdown",
   "metadata": {},
   "source": [
    "# len()"
   ]
  },
  {
   "cell_type": "code",
   "execution_count": null,
   "metadata": {},
   "outputs": [],
   "source": [
    "\"Techpro\""
   ]
  },
  {
   "cell_type": "code",
   "execution_count": 11,
   "metadata": {},
   "outputs": [
    {
     "data": {
      "text/plain": [
       "7"
      ]
     },
     "execution_count": 11,
     "metadata": {},
     "output_type": "execute_result"
    }
   ],
   "source": [
    "len(\"Techpro\")"
   ]
  },
  {
   "cell_type": "code",
   "execution_count": null,
   "metadata": {},
   "outputs": [],
   "source": []
  },
  {
   "cell_type": "code",
   "execution_count": 16,
   "metadata": {},
   "outputs": [
    {
     "data": {
      "text/plain": [
       "'Meh'"
      ]
     },
     "execution_count": 16,
     "metadata": {},
     "output_type": "execute_result"
    }
   ],
   "source": [
    "name = \"Mehmet\"\n",
    "\"Mehmet\"[:(len(name) // 2)]"
   ]
  },
  {
   "cell_type": "code",
   "execution_count": 17,
   "metadata": {},
   "outputs": [
    {
     "data": {
      "text/plain": [
       "'met'"
      ]
     },
     "execution_count": 17,
     "metadata": {},
     "output_type": "execute_result"
    }
   ],
   "source": [
    "name = \"Mehmet\"\n",
    "name [(len(name) // 2):]"
   ]
  },
  {
   "cell_type": "code",
   "execution_count": 18,
   "metadata": {},
   "outputs": [],
   "source": [
    "str1 = \"sarı\"\n",
    "str2 = \"mehmet\""
   ]
  },
  {
   "cell_type": "code",
   "execution_count": 19,
   "metadata": {},
   "outputs": [
    {
     "data": {
      "text/plain": [
       "'samehmetrı'"
      ]
     },
     "execution_count": 19,
     "metadata": {},
     "output_type": "execute_result"
    }
   ],
   "source": [
    "ilk_bolum = str1 [:(len(str1) // 2)]\n",
    "son_bolum = str1 [(len(str1) // 2):]\n",
    "sonuc = ilk_bolum + str2 + son_bolum\n",
    "sonuc"
   ]
  },
  {
   "cell_type": "code",
   "execution_count": 20,
   "metadata": {},
   "outputs": [
    {
     "data": {
      "text/plain": [
       "'Tec'"
      ]
     },
     "execution_count": 20,
     "metadata": {},
     "output_type": "execute_result"
    }
   ],
   "source": [
    "\"Techpro\"[:int(len(\"Techpro\") / 2)]"
   ]
  },
  {
   "cell_type": "code",
   "execution_count": 11,
   "metadata": {},
   "outputs": [
    {
     "data": {
      "text/plain": [
       "'Tecbesthpro'"
      ]
     },
     "execution_count": 11,
     "metadata": {},
     "output_type": "execute_result"
    }
   ],
   "source": [
    "str1 = \"Techpro\"\n",
    "str2 = \"best\"\n",
    "(str1[:len(str1) // 2] + str2 + str1[len(str1) // 2:])\n"
   ]
  },
  {
   "cell_type": "code",
   "execution_count": 22,
   "metadata": {},
   "outputs": [],
   "source": [
    "str1 = \"Techpro\"\n",
    "str2 = \"best\""
   ]
  },
  {
   "cell_type": "code",
   "execution_count": 23,
   "metadata": {},
   "outputs": [
    {
     "data": {
      "text/plain": [
       "'Tecbesthpro'"
      ]
     },
     "execution_count": 23,
     "metadata": {},
     "output_type": "execute_result"
    }
   ],
   "source": [
    "ilk_bolum = str1 [:(len(str1) // 2)]\n",
    "son_bolum = str1 [(len(str1) // 2):]\n",
    "sonuc = ilk_bolum + str2 + son_bolum\n",
    "sonuc"
   ]
  },
  {
   "cell_type": "code",
   "execution_count": 12,
   "metadata": {},
   "outputs": [
    {
     "name": "stdout",
     "output_type": "stream",
     "text": [
      "mesarıhmet\n"
     ]
    }
   ],
   "source": [
    "string1 = \"sarı\"\n",
    "string2 = \"mehmet\"\n",
    "result = string2[:2] + string1 + string2[2:]\n",
    "print(result)"
   ]
  },
  {
   "cell_type": "code",
   "execution_count": 24,
   "metadata": {},
   "outputs": [
    {
     "name": "stdout",
     "output_type": "stream",
     "text": [
      "Tecbesthpro\n"
     ]
    }
   ],
   "source": [
    "print(str1[:(len(str1) // 2)] + str2 + str1[(len(str1) // 2):])"
   ]
  },
  {
   "attachments": {},
   "cell_type": "markdown",
   "metadata": {},
   "source": [
    "# If - Elif - Else"
   ]
  },
  {
   "cell_type": "code",
   "execution_count": 25,
   "metadata": {},
   "outputs": [
    {
     "name": "stdout",
     "output_type": "stream",
     "text": [
      "5, 4 ten büyüktür\n"
     ]
    }
   ],
   "source": [
    "if 5 > 4:\n",
    "    print(\"5, 4 ten büyüktür\")"
   ]
  },
  {
   "cell_type": "code",
   "execution_count": 26,
   "metadata": {},
   "outputs": [],
   "source": [
    "if 5 < 4:\n",
    "    print(\"5, 4 ten büyüktür\")"
   ]
  },
  {
   "cell_type": "code",
   "execution_count": 27,
   "metadata": {},
   "outputs": [
    {
     "ename": "IndentationError",
     "evalue": "expected an indented block (666473472.py, line 2)",
     "output_type": "error",
     "traceback": [
      "\u001b[1;36m  Input \u001b[1;32mIn [27]\u001b[1;36m\u001b[0m\n\u001b[1;33m    print(\"5, 4 ten büyüktür\")\u001b[0m\n\u001b[1;37m    ^\u001b[0m\n\u001b[1;31mIndentationError\u001b[0m\u001b[1;31m:\u001b[0m expected an indented block\n"
     ]
    }
   ],
   "source": [
    "if 5 > 4:\n",
    "print(\"5, 4 ten büyüktür\")"
   ]
  },
  {
   "cell_type": "code",
   "execution_count": 28,
   "metadata": {},
   "outputs": [
    {
     "ename": "SyntaxError",
     "evalue": "invalid syntax (38920500.py, line 1)",
     "output_type": "error",
     "traceback": [
      "\u001b[1;36m  Input \u001b[1;32mIn [28]\u001b[1;36m\u001b[0m\n\u001b[1;33m    if 5 > 4\u001b[0m\n\u001b[1;37m            ^\u001b[0m\n\u001b[1;31mSyntaxError\u001b[0m\u001b[1;31m:\u001b[0m invalid syntax\n"
     ]
    }
   ],
   "source": [
    "if 5 > 4\n",
    "    print(\"5, 4 ten büyüktür\")"
   ]
  },
  {
   "cell_type": "code",
   "execution_count": 30,
   "metadata": {},
   "outputs": [
    {
     "name": "stdout",
     "output_type": "stream",
     "text": [
      "5, 4 ten büyüktür\n"
     ]
    }
   ],
   "source": [
    "if 5 < 4:\n",
    "    print(\"5, 4'ten küçüktür\")\n",
    "elif 5 > 4:\n",
    "    print(\"5, 4 ten büyüktür\")"
   ]
  },
  {
   "cell_type": "code",
   "execution_count": 31,
   "metadata": {},
   "outputs": [
    {
     "name": "stdout",
     "output_type": "stream",
     "text": [
      "5 sayısı 4 ten küçük değil. Aynı zamanda 5 sayısı 4 e eşit değil.\n"
     ]
    }
   ],
   "source": [
    "if 5 < 4:\n",
    "    print(\"5, 4 ten küçüktür\")\n",
    "elif 5 == 4:\n",
    "    print(\"5, 4 e eşittir\")\n",
    "else:\n",
    "    print(\"5 sayısı 4 ten küçük değil. Aynı zamanda 5 sayısı 4 e eşit değil.\")"
   ]
  },
  {
   "cell_type": "code",
   "execution_count": 32,
   "metadata": {},
   "outputs": [
    {
     "name": "stdout",
     "output_type": "stream",
     "text": [
      "5 sayısı 4 ten küçük değilmiş\n"
     ]
    }
   ],
   "source": [
    "if 5 < 4:\n",
    "    print(\"5, 4 ten küçüktür\")\n",
    "else:\n",
    "    print(\"5 sayısı 4 ten küçük değilmiş\")"
   ]
  },
  {
   "attachments": {},
   "cell_type": "markdown",
   "metadata": {},
   "source": [
    "#### input ile kullanıcıdan 100 lük sistemde aldığı notu isteyin ve harf notunu döndüren bir algoritma oluşturun 90 ve üstü A, 75 ve üstü B, 60 ve üstü C, 45 ve üstü D, 45 in altı F\n",
    "     "
   ]
  },
  {
   "cell_type": "code",
   "execution_count": 33,
   "metadata": {},
   "outputs": [
    {
     "name": "stdout",
     "output_type": "stream",
     "text": [
      "sınavdan aldığınız not D harfine denk gelmektedir\n"
     ]
    }
   ],
   "source": [
    "sinav_puani = int(input(\"Sınav notunuzu giriniz(0 ile 100 arasında):\"))\n",
    "\n",
    "if sinav_puani >= 90:\n",
    "    harf_notu = \"A\"\n",
    "elif sinav_puani >= 75:\n",
    "    harf_notu = \"B\"\n",
    "elif sinav_puani >= 60:\n",
    "    harf_notu = \"C\"\n",
    "elif sinav_puani >= 45:\n",
    "    harf_notu = \"D\"\n",
    "else:\n",
    "    harf_notu = \"F\"\n",
    "\n",
    "print(f\"sınavdan aldığınız not {harf_notu} harfine denk gelmektedir\")"
   ]
  },
  {
   "cell_type": "code",
   "execution_count": 35,
   "metadata": {},
   "outputs": [
    {
     "name": "stdout",
     "output_type": "stream",
     "text": [
      "sınavdan aldığınız not F harfine denk gelmektedir\n"
     ]
    }
   ],
   "source": [
    "sinav_puani = int(input(\"Sınav notunuzu giriniz(0 ile 100 arasında):\"))\n",
    "\n",
    "if sinav_puani >= 90:\n",
    "    harf_notu = \"A\"\n",
    "elif sinav_puani >= 75:\n",
    "    harf_notu = \"B\"\n",
    "elif sinav_puani >= 60:\n",
    "    harf_notu = \"C\"\n",
    "elif sinav_puani >= 45:\n",
    "    harf_notu = \"D\"\n",
    "elif sinav_puani < 45:\n",
    "    harf_notu = \"F\"\n",
    "\n",
    "print(f\"sınavdan aldığınız not {harf_notu} harfine denk gelmektedir\")"
   ]
  },
  {
   "cell_type": "code",
   "execution_count": 40,
   "metadata": {},
   "outputs": [
    {
     "name": "stdout",
     "output_type": "stream",
     "text": [
      "Sınav notunuzu yanlış girdiniz. Tekrar girin.\n"
     ]
    }
   ],
   "source": [
    "sinav_puani = int(input(\"Sınav notunuzu giriniz(0 ile 100 arasında):\"))\n",
    "if 0 <= sinav_puani <= 100:\n",
    "    if sinav_puani >= 90:\n",
    "        harf_notu = \"A\"\n",
    "    elif sinav_puani >= 75:\n",
    "        harf_notu = \"B\"\n",
    "    elif sinav_puani >= 60:\n",
    "        harf_notu = \"C\"\n",
    "    elif sinav_puani >= 45:\n",
    "        harf_notu = \"D\"\n",
    "    else:\n",
    "        harf_notu = \"F\"\n",
    "    print(f\"sınavdan aldığınız not {harf_notu} harfine denk gelmektedir\")\n",
    "else:\n",
    "    print(\"Sınav notunuzu yanlış girdiniz. Tekrar girin.\")"
   ]
  },
  {
   "cell_type": "code",
   "execution_count": null,
   "metadata": {},
   "outputs": [],
   "source": []
  },
  {
   "cell_type": "code",
   "execution_count": 14,
   "metadata": {},
   "outputs": [
    {
     "name": "stdout",
     "output_type": "stream",
     "text": [
      "C\n"
     ]
    }
   ],
   "source": [
    "sinav_notu = int(input(\"Notunuzu giriniz\"))\n",
    "if sinav_notu >= 90:\n",
    "    print(\"A\")\n",
    "elif sinav_notu >= 75:\n",
    "    print(\"B\")\n",
    "elif sinav_notu >= 60:\n",
    "    print(\"C\")\n",
    "elif sinav_notu >= 45:\n",
    "    print(\"D\")\n",
    "else:\n",
    "    print(\"F\")"
   ]
  },
  {
   "cell_type": "code",
   "execution_count": null,
   "metadata": {},
   "outputs": [],
   "source": [
    "# ctrl + shift + l önemli"
   ]
  },
  {
   "cell_type": "code",
   "execution_count": null,
   "metadata": {},
   "outputs": [],
   "source": [
    "# shift + tab seçili satırları geriye alır."
   ]
  }
 ],
 "metadata": {
  "kernelspec": {
   "display_name": "base",
   "language": "python",
   "name": "python3"
  },
  "language_info": {
   "codemirror_mode": {
    "name": "ipython",
    "version": 3
   },
   "file_extension": ".py",
   "mimetype": "text/x-python",
   "name": "python",
   "nbconvert_exporter": "python",
   "pygments_lexer": "ipython3",
   "version": "3.9.12"
  },
  "orig_nbformat": 4,
  "vscode": {
   "interpreter": {
    "hash": "875f02f927ff789742ebe739606a64278d49e89bb93d2e50f440b0eaa534aac3"
   }
  }
 },
 "nbformat": 4,
 "nbformat_minor": 2
}
