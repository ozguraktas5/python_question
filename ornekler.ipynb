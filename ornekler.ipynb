{
 "cells": [
  {
   "cell_type": "code",
   "execution_count": 1,
   "metadata": {},
   "outputs": [
    {
     "name": "stdout",
     "output_type": "stream",
     "text": [
      "Vücut Kitle İndeksiniz: 28.21380937724428\n"
     ]
    }
   ],
   "source": [
    "kilo = float(input(\"Kilonuzu giriniz:\"))\n",
    "boy = float(input(\"Boyunuzu giriniz:\"))\n",
    "vki = kilo / (boy ** 2)\n",
    "print(\"Vücut Kitle İndeksiniz:\", vki)"
   ]
  },
  {
   "cell_type": "code",
   "execution_count": 3,
   "metadata": {},
   "outputs": [
    {
     "name": "stdout",
     "output_type": "stream",
     "text": [
      "Kullanılan boya miktarı: 440.0 gr\n",
      "Katılan su miktarı: 110.0 gr\n",
      "Ödenecek para: 4400.0 TL\n"
     ]
    }
   ],
   "source": [
    "ucgen_yukseklik, ucgen_taban = int(input(\"Yüksekliği girin:\")), int(input(\"Taban uzunluğunu girin:\"))\n",
    "kare_kenar = int(input(\"Kenar uzunluğunu girin:\"))\n",
    "dikdortgen_kisa_kenar, dikdortgen_uzun_kenar = int(input(\"Kısa kenarı girin:\")), int(input(\"Uzun kenarı girin:\"))\n",
    "daire_yaricap = int(input(\"Yarıçapı girin:\"))\n",
    "ucgen_alan, kare_alan, dikdortgen_alan, daire_alan = ((ucgen_yukseklik * ucgen_taban) / 2), (kare_kenar ** 2), (dikdortgen_kisa_kenar * dikdortgen_uzun_kenar), (3 * daire_yaricap ** 2)\n",
    "toplam_alan = ucgen_alan + kare_alan + dikdortgen_alan + daire_alan\n",
    "print(\"Kullanılan boya miktarı:\", toplam_alan * 0.8, \"gr\")\n",
    "print(\"Katılan su miktarı:\", toplam_alan * 0.2, \"gr\")\n",
    "print(\"Ödenecek para:\", toplam_alan * 0.8 * 10, \"TL\") "
   ]
  },
  {
   "cell_type": "code",
   "execution_count": 1,
   "metadata": {},
   "outputs": [
    {
     "name": "stdout",
     "output_type": "stream",
     "text": [
      "22 saat 12 dk 43 sn\n"
     ]
    }
   ],
   "source": [
    "a = 79963\n",
    "print( a // 3600, \"saat\", int((a % 3600) / 60), \"dk\", (a % 3600) % 60, \"sn\")"
   ]
  },
  {
   "cell_type": "code",
   "execution_count": 1,
   "metadata": {},
   "outputs": [
    {
     "name": "stdout",
     "output_type": "stream",
     "text": [
      "3\n"
     ]
    }
   ],
   "source": [
    "a = int(input(\"Dört basamaklı sayı giriniz:\"))\n",
    "b = int(input(\"Dört basamaklı sayı giriniz:\"))\n",
    "c = int(input(\"Dört basamaklı sayı giriniz:\"))\n",
    "d = int(input(\"Dört basamaklı sayı giriniz:\"))\n",
    "\n",
    "toplam = str(a + b + c + d)\n",
    "\n",
    "print(toplam[-2:-1])"
   ]
  },
  {
   "cell_type": "code",
   "execution_count": 3,
   "metadata": {},
   "outputs": [
    {
     "name": "stdout",
     "output_type": "stream",
     "text": [
      "Üçüncü açı: 80 derece\n"
     ]
    }
   ],
   "source": [
    "birinci_aci = int(input(\"Birinci açıyı giriniz:\"))\n",
    "ikinci_aci = int(input(\"İkinci açıyı giriniz:\"))\n",
    "\n",
    "print(\"Üçüncü açı:\", 180 - (birinci_aci + ikinci_aci), \"derece\")"
   ]
  },
  {
   "cell_type": "code",
   "execution_count": 1,
   "metadata": {},
   "outputs": [
    {
     "name": "stdout",
     "output_type": "stream",
     "text": [
      "Merhaba Dünya\n"
     ]
    }
   ],
   "source": [
    "print(\"Merhaba Dünya\")"
   ]
  },
  {
   "cell_type": "code",
   "execution_count": 2,
   "metadata": {},
   "outputs": [
    {
     "name": "stdout",
     "output_type": "stream",
     "text": [
      "Merhaba Özgür\n"
     ]
    }
   ],
   "source": [
    "isim = input(\"İsminiz:\")\n",
    "print(\"Merhaba\",isim)"
   ]
  },
  {
   "cell_type": "code",
   "execution_count": 3,
   "metadata": {},
   "outputs": [
    {
     "name": "stdout",
     "output_type": "stream",
     "text": [
      "3\n"
     ]
    }
   ],
   "source": [
    "sayi1 = int(input(\"Birinci sayıyı giriniz:\"))\n",
    "sayi2 = int(input(\"İkinci sayıyı giriniz:\"))\n",
    "print(sayi1 + sayi2)"
   ]
  },
  {
   "cell_type": "code",
   "execution_count": 4,
   "metadata": {},
   "outputs": [
    {
     "name": "stdout",
     "output_type": "stream",
     "text": [
      "Ortalama: 6.0\n"
     ]
    }
   ],
   "source": [
    "sayi_1 = int(input(\"Birinci sayıyı giriniz:\"))\n",
    "sayi_2 = int(input(\"İkinci sayıyı giriniz:\"))\n",
    "ortalama = (sayi_1 + sayi_2) / 2\n",
    "print(\"Ortalama:\",ortalama)"
   ]
  },
  {
   "cell_type": "code",
   "execution_count": 5,
   "metadata": {},
   "outputs": [
    {
     "name": "stdout",
     "output_type": "stream",
     "text": [
      "Not 57.0\n"
     ]
    }
   ],
   "source": [
    "vize = float(input(\"Vize notunu giriniz:\"))\n",
    "final = float(input(\"Final notunu giriniz:\"))\n",
    "sinav_ortalama = (vize * 0.3) + (final * 0.7)\n",
    "print(\"Not\",sinav_ortalama)"
   ]
  },
  {
   "cell_type": "code",
   "execution_count": 8,
   "metadata": {},
   "outputs": [
    {
     "name": "stdout",
     "output_type": "stream",
     "text": [
      "Yazılı Ortalaması: 63.0\n"
     ]
    }
   ],
   "source": [
    "yazili_1 = float(input(\"Birinci yazılı puanını giriniz:\"))\n",
    "yazili_2 = float(input(\"İkinci yazılı puanını giriniz:\"))\n",
    "yazili_3 = float(input(\"Üçüncü yazılı puanını giriniz:\"))\n",
    "yazili_ortalama = (yazili_1 + yazili_2 + yazili_3) / 3\n",
    "print(\"Yazılı Ortalaması:\",yazili_ortalama)"
   ]
  },
  {
   "cell_type": "code",
   "execution_count": 12,
   "metadata": {},
   "outputs": [
    {
     "name": "stdout",
     "output_type": "stream",
     "text": [
      "Geçtiniz\n"
     ]
    }
   ],
   "source": [
    "yazili_ort = int(input(\"Yazılı ortalamasını giriniz:\"))\n",
    "if yazili_ort >= 70:\n",
    "    print(\"Geçtiniz\")\n",
    "else:\n",
    "    print(\"Kaldınız\")"
   ]
  },
  {
   "cell_type": "code",
   "execution_count": 14,
   "metadata": {},
   "outputs": [
    {
     "name": "stdout",
     "output_type": "stream",
     "text": [
      "Çift sayıdır.\n"
     ]
    }
   ],
   "source": [
    "girilen_sayi = int(input(\"Sayı giriniz:\"))\n",
    "if girilen_sayi % 2 == 0:\n",
    "    print(\"Çift sayıdır.\")\n",
    "else:\n",
    "    print(\"Tek sayıdır.\")"
   ]
  },
  {
   "cell_type": "code",
   "execution_count": 17,
   "metadata": {},
   "outputs": [
    {
     "name": "stdout",
     "output_type": "stream",
     "text": [
      "Sayı negatiftir.\n"
     ]
    }
   ],
   "source": [
    "sayi_gir = int(input(\"Sayı giriniz:\"))\n",
    "if sayi_gir > 0:\n",
    "    print(\"Sayı pozitiftir.\")\n",
    "elif sayi_gir == 0:\n",
    "    print(\"Sayı 0'a eşittir.\")\n",
    "else:\n",
    "    print(\"Sayı negatiftir.\")"
   ]
  },
  {
   "cell_type": "code",
   "execution_count": 21,
   "metadata": {},
   "outputs": [
    {
     "name": "stdout",
     "output_type": "stream",
     "text": [
      "Kişi 18 yaşından küçük olduğu için ehliyet alamaz.\n"
     ]
    }
   ],
   "source": [
    "kisi_yas =int(input(\"Kişinin yaşını giriniz:\"))\n",
    "if kisi_yas >= 18:\n",
    "    print(\"Kişi ehliyet alabilir.\")\n",
    "else:\n",
    "    print(\"Kişi 18 yaşından küçük olduğu için ehliyet alamaz.\")"
   ]
  },
  {
   "cell_type": "code",
   "execution_count": 22,
   "metadata": {},
   "outputs": [
    {
     "name": "stdout",
     "output_type": "stream",
     "text": [
      "1 2 3 4 5 6 7 8 9 10 11 12 13 14 15 16 17 18 19 20 21 22 23 24 25 26 27 28 29 30 31 32 33 34 35 36 37 38 39 40 41 42 43 44 45 46 47 48 49 50 51 52 53 54 55 56 57 58 59 60 61 62 63 64 65 66 67 68 69 70 71 72 73 74 75 76 77 78 79 80 81 82 83 84 85 86 87 88 89 90 91 92 93 94 95 96 97 98 99 100 "
     ]
    }
   ],
   "source": [
    "for i in range(1,101):\n",
    "    print(i, end=\" \")"
   ]
  },
  {
   "cell_type": "code",
   "execution_count": 25,
   "metadata": {},
   "outputs": [
    {
     "name": "stdout",
     "output_type": "stream",
     "text": [
      "2 4 6 8 10 12 14 16 18 20 22 24 26 28 30 32 34 36 38 40 42 44 46 48 50 52 54 56 58 60 62 64 66 68 70 72 74 76 78 80 82 84 86 88 90 92 94 96 98 100 "
     ]
    }
   ],
   "source": [
    "for n in range(2,101,2):\n",
    "    print(n, end=\" \")"
   ]
  },
  {
   "cell_type": "code",
   "execution_count": 26,
   "metadata": {},
   "outputs": [
    {
     "name": "stdout",
     "output_type": "stream",
     "text": [
      "1 3 5 7 9 11 13 15 17 19 21 23 25 27 29 31 33 35 37 39 41 43 45 47 49 51 53 55 57 59 61 63 65 67 69 71 73 75 77 79 81 83 85 87 89 91 93 95 97 99 "
     ]
    }
   ],
   "source": [
    "for m in range(1,101):\n",
    "    if m % 2 == 1:\n",
    "        print(m, end=\" \")"
   ]
  },
  {
   "cell_type": "code",
   "execution_count": 27,
   "metadata": {},
   "outputs": [
    {
     "name": "stdout",
     "output_type": "stream",
     "text": [
      "3 5 6 9 10 12 15 18 20 21 24 25 27 30 33 35 36 39 40 42 45 48 50 51 54 55 57 60 63 65 66 69 70 72 75 78 80 81 84 85 87 90 93 95 96 99 100 "
     ]
    }
   ],
   "source": [
    "for a in range(1,101):\n",
    "    if (a % 3 == 0) or (a % 5 == 0):\n",
    "        print(a, end=\" \")"
   ]
  },
  {
   "cell_type": "code",
   "execution_count": 29,
   "metadata": {},
   "outputs": [
    {
     "name": "stdout",
     "output_type": "stream",
     "text": [
      "1 2 3 4 5 "
     ]
    }
   ],
   "source": [
    "kullanici_sayi = int(input(\"Sayı giriniz:\"))\n",
    "for b in range(1,kullanici_sayi + 1):\n",
    "    print(b, end=\" \")"
   ]
  },
  {
   "cell_type": "code",
   "execution_count": 31,
   "metadata": {},
   "outputs": [
    {
     "name": "stdout",
     "output_type": "stream",
     "text": [
      "Dikdörtgenin çevresi: 50 \n",
      "Dikdörtgenin alanı: 150\n"
     ]
    }
   ],
   "source": [
    "kenar_1 = int(input(\"Birinci kenarı giriniz:\"))\n",
    "kenar_2 = int(input(\"İkinci kenarı giriniz:\"))\n",
    "cevre = (kenar_1 + kenar_2) * 2\n",
    "alan = (kenar_1 * kenar_2)\n",
    "print(\"Dikdörtgenin çevresi:\", cevre,\"\\n\" \"Dikdörtgenin alanı:\", alan)\n"
   ]
  },
  {
   "cell_type": "code",
   "execution_count": 2,
   "metadata": {},
   "outputs": [
    {
     "name": "stdout",
     "output_type": "stream",
     "text": [
      "M\n",
      "u\n",
      "v\n",
      "a\n",
      "f\n",
      "f\n",
      "a\n",
      "k\n",
      "i\n",
      "y\n",
      "e\n",
      "t\n"
     ]
    }
   ],
   "source": [
    "metin = str(input(\"Kelime giriniz:\"))\n",
    "for i in metin:\n",
    "    print(i)\n"
   ]
  },
  {
   "cell_type": "code",
   "execution_count": 8,
   "metadata": {},
   "outputs": [
    {
     "name": "stdout",
     "output_type": "stream",
     "text": [
      "1 sayısından başlayıp 5 sayısına kadar olan sayıların toplamı 15\n"
     ]
    }
   ],
   "source": [
    "sayi_1 = int(input(\"Birinci sayıyı giriniz:\"))\n",
    "sayi_2 = int(input(\"İkinci sayıyı giriniz:\"))\n",
    "toplam = 0\n",
    "for i in range(sayi_1, sayi_2 + 1):\n",
    "    toplam += i\n",
    "print(\"{} sayısından başlayıp {} sayısına kadar olan sayıların toplamı {}\".format(sayi_1,sayi_2,toplam))\n"
   ]
  },
  {
   "cell_type": "code",
   "execution_count": 25,
   "metadata": {},
   "outputs": [
    {
     "name": "stdout",
     "output_type": "stream",
     "text": [
      "15248854444444444444444444444444444 sayısı 35 basamaklıdır.\n"
     ]
    }
   ],
   "source": [
    "sayi = input(\"Sayı giriniz:\")\n",
    "print(\"{} sayısı {} basamaklıdır.\".format(sayi, len(sayi)))"
   ]
  },
  {
   "cell_type": "code",
   "execution_count": 1,
   "metadata": {},
   "outputs": [
    {
     "name": "stdout",
     "output_type": "stream",
     "text": [
      "Ö\n",
      "z\n",
      "g\n",
      "ü\n",
      "r\n",
      " \n",
      "A\n",
      "k\n",
      "t\n",
      "a\n",
      "ş\n"
     ]
    }
   ],
   "source": [
    "isim = input(\"Adınızı ve soyadınızı giriniz:\")\n",
    "for i in isim:\n",
    "    print(i)"
   ]
  },
  {
   "cell_type": "code",
   "execution_count": 6,
   "metadata": {},
   "outputs": [
    {
     "name": "stdout",
     "output_type": "stream",
     "text": [
      "5 sayısı ile 9 sayısı arasındaki sayıların toplamı: 21\n"
     ]
    }
   ],
   "source": [
    "sayi_1 = int(input(\"Birinci sayıyı giriniz:\"))\n",
    "sayi_2 = int(input(\"İkinci sayıyı giriniz:\"))\n",
    "toplam = 0\n",
    "for i in range(sayi_1+1, sayi_2):\n",
    "    toplam += i\n",
    "print(\"{} sayısı ile {} sayısı arasındaki sayıların toplamı: {}\".format(sayi_1, sayi_2, toplam))"
   ]
  },
  {
   "cell_type": "code",
   "execution_count": 16,
   "metadata": {},
   "outputs": [
    {
     "name": "stdout",
     "output_type": "stream",
     "text": [
      "Sayı asaldır.\n"
     ]
    }
   ],
   "source": [
    "bolen = 0\n",
    "asal_sayimi = int(input(\"Sayı giriniz:\"))\n",
    "for i in range(2,asal_sayimi):\n",
    "    if asal_sayimi % i == 0:\n",
    "        bolen += 1\n",
    "        break\n",
    "if bolen != 0:\n",
    "    print(\"Sayı asal değildir.\")\n",
    "else:\n",
    "    print(\"Sayı asaldır.\")\n",
    "    \n",
    "\n",
    "\n",
    "\n"
   ]
  },
  {
   "cell_type": "code",
   "execution_count": 20,
   "metadata": {},
   "outputs": [
    {
     "name": "stdout",
     "output_type": "stream",
     "text": [
      "    /|\n",
      "   / |\n",
      "  /  |\n",
      " /___|\n"
     ]
    }
   ],
   "source": [
    "print(\"    /|\")\n",
    "print(\"   / |\")\n",
    "print(\"  /  |\")\n",
    "print(\" /___|\")"
   ]
  },
  {
   "cell_type": "code",
   "execution_count": 40,
   "metadata": {},
   "outputs": [
    {
     "name": "stdout",
     "output_type": "stream",
     "text": [
      "6\n"
     ]
    }
   ],
   "source": [
    "sayi = input(\"Sayı girin: \")\n",
    "liste = list(sayi)\n",
    "max_sayi = max(sayi)\n",
    "print(max_sayi)    "
   ]
  },
  {
   "cell_type": "code",
   "execution_count": 49,
   "metadata": {},
   "outputs": [
    {
     "name": "stdout",
     "output_type": "stream",
     "text": [
      "1\n"
     ]
    }
   ],
   "source": [
    "sayi = input(\"Sayı girin: \")\n",
    "liste = list(sayi)\n",
    "min_sayi = min(sayi)\n",
    "print(min_sayi)"
   ]
  },
  {
   "cell_type": "code",
   "execution_count": 45,
   "metadata": {},
   "outputs": [
    {
     "name": "stdout",
     "output_type": "stream",
     "text": [
      "Asal sayı değildir\n"
     ]
    }
   ],
   "source": [
    "bolen = 0\n",
    "asal_sayi = int(input(\"Sayı girin:\"))\n",
    "for i in range(2, asal_sayi):\n",
    "    if asal_sayi % i == 0:\n",
    "        bolen += 1\n",
    "        break\n",
    "if bolen != 0:\n",
    "        print(\"Asal sayı değildir\")\n",
    "else:\n",
    "        print(\"Asal sayıdır\")"
   ]
  },
  {
   "cell_type": "code",
   "execution_count": 4,
   "metadata": {},
   "outputs": [
    {
     "name": "stdout",
     "output_type": "stream",
     "text": [
      "Öğrencinin harf notu: BB\n"
     ]
    }
   ],
   "source": [
    "vize = int(input(\"Vize notunu girin(0 ile 100 arasında):\"))\n",
    "final = int(input(\"Final notunu girin(0 ile 100 arasında):\"))\n",
    "odev = int(input(\"Ödev notunu girin(0 ile 50 arasında):\"))\n",
    "\n",
    "ortalama = (vize * 0.3 + final * 0.5 + odev * 0.2)\n",
    "\n",
    "if 0 <= ortalama <= 100:\n",
    "    if 90 <= ortalama <= 100:\n",
    "        harf_notu = \"AA\"\n",
    "    elif 85 <= ortalama <= 89:\n",
    "        harf_notu = \"BA\"\n",
    "    elif 80 <= ortalama <= 84:\n",
    "        harf_notu = \"BB\"\n",
    "    elif 75 <= ortalama <= 79:\n",
    "        harf_notu = \"CB\"\n",
    "    elif 70 <= ortalama <= 74:\n",
    "        harf_notu = \"CC\"\n",
    "    elif 60 <= ortalama <= 69:\n",
    "        harf_notu = \"DC\"\n",
    "    elif 50 <= ortalama <= 59:\n",
    "        harf_notu = \"DD\"\n",
    "    elif 0 <= ortalama <= 49:\n",
    "        harf_notu = \"FF\"\n",
    "    print(f\"Öğrencinin harf notu: {harf_notu}\")\n",
    "\n",
    "else:\n",
    "    print(\"Hatalı giriş yaptınız. Tekrar deneyin.\")\n"
   ]
  },
  {
   "cell_type": "code",
   "execution_count": 4,
   "metadata": {},
   "outputs": [
    {
     "name": "stdout",
     "output_type": "stream",
     "text": [
      "1 * 1 = 1\n",
      "1 * 2 = 2\n",
      "1 * 3 = 3\n",
      "1 * 4 = 4\n",
      "1 * 5 = 5\n",
      "2 * 1 = 2\n",
      "2 * 2 = 4\n",
      "2 * 3 = 6\n",
      "2 * 4 = 8\n",
      "2 * 5 = 10\n",
      "3 * 1 = 3\n",
      "3 * 2 = 6\n",
      "3 * 3 = 9\n",
      "3 * 4 = 12\n",
      "3 * 5 = 15\n",
      "4 * 1 = 4\n",
      "4 * 2 = 8\n",
      "4 * 3 = 12\n",
      "4 * 4 = 16\n",
      "4 * 5 = 20\n",
      "5 * 1 = 5\n",
      "5 * 2 = 10\n",
      "5 * 3 = 15\n",
      "5 * 4 = 20\n",
      "5 * 5 = 25\n"
     ]
    }
   ],
   "source": [
    "for i in range(1,6):\n",
    "    for j in range(1,6):\n",
    "        print(f\"{i} * {j} = {i*j}\")\n"
   ]
  },
  {
   "cell_type": "code",
   "execution_count": 6,
   "metadata": {},
   "outputs": [
    {
     "name": "stdout",
     "output_type": "stream",
     "text": [
      "Tek sayıların toplamı: 25\n",
      "Çift sayıların toplamı: 30\n"
     ]
    }
   ],
   "source": [
    "number = int(input(\"Sayı girin:\"))\n",
    "\n",
    "tek_toplam = 0\n",
    "cift_toplam = 0\n",
    "for z in range(0, number+1):\n",
    "    if z % 2 != 0:\n",
    "        tek_toplam += z\n",
    "    else:\n",
    "        cift_toplam += z\n",
    "print(f\"Tek sayıların toplamı: {tek_toplam}\")\n",
    "print(f\"Çift sayıların toplamı: {cift_toplam}\")\n"
   ]
  },
  {
   "cell_type": "code",
   "execution_count": 14,
   "metadata": {},
   "outputs": [
    {
     "name": "stdout",
     "output_type": "stream",
     "text": [
      "0 sayısının faktöriyeli: 1\n"
     ]
    }
   ],
   "source": [
    "number = int(input(\"Sayı girin:\"))\n",
    "carpim = 1\n",
    "for i in range(1,number+1):\n",
    "    carpim *= i\n",
    "print(\"{} sayısının faktöriyeli: {}\".format(number, carpim))\n"
   ]
  },
  {
   "attachments": {},
   "cell_type": "markdown",
   "metadata": {},
   "source": [
    "#### Örnek 50:  Kullanıcının klavyeden yaş bilgisi alınıp 18 yaşından küçükse çocuk 18-40 yaş arası ise genç, 40-60 yaş arası ise orta yaşlı 60 yaştan büyükse yaşlı şeklinde ekrana yazdıran programın python kodlarını yazınız."
   ]
  },
  {
   "cell_type": "code",
   "execution_count": 6,
   "metadata": {},
   "outputs": [
    {
     "name": "stdout",
     "output_type": "stream",
     "text": [
      "Yaşlı\n"
     ]
    }
   ],
   "source": [
    "yas = int(input(\"Yaşınız:\"))\n",
    "\n",
    "if yas < 18:\n",
    "    print(\"Çocuk\")\n",
    "elif 18 <= yas < 40:\n",
    "    print(\"Genç\")\n",
    "elif 40 <= yas < 60:\n",
    "    print(\"Orta Yaşlı\")\n",
    "else:\n",
    "    print(\"Yaşlı\")\n"
   ]
  },
  {
   "attachments": {},
   "cell_type": "markdown",
   "metadata": {},
   "source": [
    "#### Örnek 36:  Örnek :Bir otoparkın ücret tarifesi aşağıdaki gibidir:\n",
    "\n",
    "1 saate kadar: 10 TL\n",
    "1-5 saat arası: Saat başı 8 TL\n",
    "5 saatten fazla: Saat başı 6 TL\n",
    "Buna göre kullanıcının girdiği otoparkta kalınan saat süresine göre ödenecek miktarı bularak ekrana yazdırınız."
   ]
  },
  {
   "cell_type": "code",
   "execution_count": 11,
   "metadata": {},
   "outputs": [
    {
     "name": "stdout",
     "output_type": "stream",
     "text": [
      "Ödenecek tutar: 40 TL\n"
     ]
    }
   ],
   "source": [
    "saat = int(input(\"Otoparkta kalınacak saat süresini girin:\"))\n",
    "\n",
    "if saat <= 1:\n",
    "    print(\"10 TL\")\n",
    "elif saat <= 5:\n",
    "    print(f\"Ödenecek tutar: {saat * 8} TL\")\n",
    "else:\n",
    "    print(f\"Ödenece tutar: {saat * 6} TL\")"
   ]
  },
  {
   "attachments": {},
   "cell_type": "markdown",
   "metadata": {},
   "source": [
    "#### Örnek 30:  Klavyeden girilen başlangıç ve bitiş sayıları arasında bulunan tek sayıların toplamını bulan python kodunu yazınız."
   ]
  },
  {
   "cell_type": "code",
   "execution_count": 4,
   "metadata": {},
   "outputs": [
    {
     "name": "stdout",
     "output_type": "stream",
     "text": [
      "Başlangıç ve bitiş sayıları arasında kalan tek sayıların toplamı: 21\n"
     ]
    }
   ],
   "source": [
    "baslangic = int(input(\"Sayı girin:\"))\n",
    "bitis = int(input(\"Sayı girin:\"))\n",
    "\n",
    "toplam = 0\n",
    "for i in range(baslangic, bitis+1):\n",
    "    if i % 2 == 1:\n",
    "        toplam += i\n",
    "print(f\"Başlangıç ve bitiş sayıları arasında kalan tek sayıların toplamı: {toplam}\")"
   ]
  },
  {
   "cell_type": "code",
   "execution_count": 5,
   "metadata": {},
   "outputs": [
    {
     "name": "stdout",
     "output_type": "stream",
     "text": [
      "Başlangıç ve bitiş sayıları arasında kalan çift sayıların toplamı: 24\n"
     ]
    }
   ],
   "source": [
    "baslangic = int(input(\"Sayı girin:\"))\n",
    "bitis = int(input(\"Sayı girin:\"))\n",
    "\n",
    "toplam = 0\n",
    "for i in range(baslangic, bitis+1):\n",
    "    if i % 2 == 0:\n",
    "        toplam += i\n",
    "print(f\"Başlangıç ve bitiş sayıları arasında kalan çift sayıların toplamı: {toplam}\")"
   ]
  },
  {
   "attachments": {},
   "cell_type": "markdown",
   "metadata": {},
   "source": [
    "Örnek 17:  Klavyeden girilen bir metnin harflerini alt alta yazdıran python kodunu yazınız."
   ]
  },
  {
   "cell_type": "code",
   "execution_count": 2,
   "metadata": {},
   "outputs": [
    {
     "name": "stdout",
     "output_type": "stream",
     "text": [
      "Ö\n",
      "z\n",
      "g\n",
      "ü\n",
      "r\n",
      " \n",
      "A\n",
      "k\n",
      "t\n",
      "a\n",
      "ş\n"
     ]
    }
   ],
   "source": [
    "metin = input(\"Metin girin:\")\n",
    "\n",
    "for i in metin:\n",
    "    print(i)"
   ]
  },
  {
   "cell_type": "code",
   "execution_count": 3,
   "metadata": {},
   "outputs": [
    {
     "name": "stdout",
     "output_type": "stream",
     "text": [
      "Ö\n",
      "z\n",
      "g\n",
      "ü\n",
      "r\n",
      " \n",
      "A\n",
      "k\n",
      "t\n",
      "a\n",
      "ş\n"
     ]
    }
   ],
   "source": [
    "metin = input(\"Metin girin:\")\n",
    "sayac = 0\n",
    "while sayac < len(metin):\n",
    "    print(metin[sayac])\n",
    "    sayac += 1"
   ]
  },
  {
   "attachments": {},
   "cell_type": "markdown",
   "metadata": {},
   "source": [
    "Örnek 24:  Önceden belirlenen bir liste içerisinde bulunan sayılardan kaç tanesinin 5’in katı olduğunu bulan python kodunu yazınız."
   ]
  },
  {
   "cell_type": "code",
   "execution_count": 23,
   "metadata": {},
   "outputs": [
    {
     "name": "stdout",
     "output_type": "stream",
     "text": [
      "15 sayısı 5'in katıdır.\n",
      "85 sayısı 5'in katıdır.\n",
      "65 sayısı 5'in katıdır.\n",
      "30 sayısı 5'in katıdır.\n",
      "95 sayısı 5'in katıdır.\n",
      "10 sayısı 5'in katıdır.\n",
      "20 sayısı 5'in katıdır.\n",
      "55 sayısı 5'in katıdır.\n",
      "5 sayısı 5'in katıdır.\n",
      "5'in katı olan sayı adeti: 9\n"
     ]
    }
   ],
   "source": [
    "sayilar = [18,15,22,19,85,32,65,30,95,10,12,20,32,55,34,28,101,5,4,32]\n",
    "sayac = 0\n",
    "for i in sayilar:\n",
    "    if i % 5 == 0:\n",
    "        print(\"{} sayısı 5'in katıdır.\".format(i))\n",
    "        sayac += 1\n",
    "        \n",
    "print(\"5'in katı olan sayı adeti: \" + str(sayac))\n",
    "\n",
    "\n",
    "        \n",
    "\n",
    "        \n",
    "        \n"
   ]
  },
  {
   "attachments": {},
   "cell_type": "markdown",
   "metadata": {},
   "source": [
    "20. Örnek: Kullanıcının girdiği sayının faktöriyelini hesaplayan python örneği"
   ]
  },
  {
   "cell_type": "code",
   "execution_count": 13,
   "metadata": {},
   "outputs": [
    {
     "name": "stdout",
     "output_type": "stream",
     "text": [
      "10 sayısının faktöriyeli: 3628800\n"
     ]
    }
   ],
   "source": [
    "sayi = int(input(\"Sayı girin:\"))\n",
    "\n",
    "if sayi >= 0:\n",
    "    carpim = 1\n",
    "    for i in range(1, sayi+1):\n",
    "        carpim *= i\n",
    "    print(f\"{sayi} sayısının faktöriyeli: {carpim}\")\n",
    "else:\n",
    "    print(\"Lütfen pozitif sayı giriniz.\")"
   ]
  },
  {
   "attachments": {},
   "cell_type": "markdown",
   "metadata": {},
   "source": [
    "### kullanıcıdan alınan sayının rakamlarını listede toplama"
   ]
  },
  {
   "cell_type": "code",
   "execution_count": 30,
   "metadata": {},
   "outputs": [
    {
     "name": "stdout",
     "output_type": "stream",
     "text": [
      "Girilen sayının rakamları: ['1', '2', '3', '4']\n",
      "Girilen sayının rakamları toplamı: 10\n"
     ]
    }
   ],
   "source": [
    "sayi = input(\"Sayı:\")\n",
    "list = []\n",
    "toplam = 0\n",
    "for i in sayi:\n",
    "    list += i\n",
    "    toplam += int(i)\n",
    "print(f\"Girilen sayının rakamları: {list}\")\n",
    "print(f\"Girilen sayının rakamları toplamı: {toplam}\")\n"
   ]
  },
  {
   "attachments": {},
   "cell_type": "markdown",
   "metadata": {},
   "source": [
    "#### isimlerin kaç harften oluştuğunu gösteren bir sözlük oluşturun\n"
   ]
  },
  {
   "cell_type": "code",
   "execution_count": 16,
   "metadata": {},
   "outputs": [
    {
     "name": "stdout",
     "output_type": "stream",
     "text": [
      "{'ahmet': '5', 'mehmet': '6', 'fırat': '5', 'zeynep': '6', 'selma': '5', 'abdullah': '8', 'cem': '3'}\n"
     ]
    }
   ],
   "source": [
    "isimler = [\"ahmet\", \"mehmet\", \"fırat\", \"zeynep\", \"selma\", \"abdullah\", \"cem\"]\n",
    "liste = []\n",
    "\n",
    "for harf in isimler:\n",
    "    harf = len(harf)\n",
    "    liste += str(harf)\n",
    "sozluk = dict(zip(isimler, liste))\n",
    "print(sozluk)\n",
    "    \n",
    "    \n",
    "\n",
    "    \n"
   ]
  },
  {
   "cell_type": "code",
   "execution_count": 34,
   "metadata": {},
   "outputs": [
    {
     "name": "stdout",
     "output_type": "stream",
     "text": [
      "0\n",
      "3\n",
      "5\n",
      "6\n",
      "9\n",
      "10\n",
      "12\n",
      "15\n",
      "18\n",
      "20\n",
      "21\n",
      "24\n",
      "25\n",
      "27\n",
      "30\n",
      "33\n",
      "35\n",
      "36\n",
      "39\n",
      "40\n",
      "42\n",
      "45\n",
      "48\n",
      "50\n",
      "51\n",
      "54\n",
      "55\n",
      "57\n",
      "60\n",
      "63\n",
      "65\n",
      "66\n",
      "69\n",
      "70\n",
      "72\n",
      "75\n",
      "78\n",
      "80\n",
      "81\n",
      "84\n",
      "85\n",
      "87\n",
      "90\n",
      "93\n",
      "95\n",
      "96\n",
      "99\n",
      "100\n",
      "102\n",
      "105\n",
      "108\n",
      "110\n",
      "111\n",
      "114\n",
      "115\n",
      "117\n",
      "120\n",
      "123\n",
      "125\n",
      "126\n",
      "129\n",
      "130\n",
      "132\n",
      "135\n",
      "138\n",
      "140\n",
      "141\n",
      "144\n",
      "145\n",
      "147\n",
      "150\n",
      "153\n",
      "155\n",
      "156\n",
      "159\n",
      "160\n",
      "162\n",
      "165\n",
      "168\n",
      "170\n",
      "171\n",
      "174\n",
      "175\n",
      "177\n",
      "180\n",
      "183\n",
      "185\n",
      "186\n",
      "189\n",
      "190\n",
      "192\n",
      "195\n",
      "198\n",
      "200\n",
      "201\n",
      "204\n",
      "205\n",
      "207\n",
      "210\n",
      "213\n",
      "215\n",
      "216\n",
      "219\n",
      "220\n",
      "222\n",
      "225\n",
      "228\n",
      "230\n",
      "231\n",
      "234\n",
      "235\n",
      "237\n",
      "240\n",
      "243\n",
      "245\n",
      "246\n",
      "249\n",
      "250\n",
      "252\n",
      "255\n",
      "258\n",
      "260\n",
      "261\n",
      "264\n",
      "265\n",
      "267\n",
      "270\n",
      "273\n",
      "275\n",
      "276\n",
      "279\n",
      "280\n",
      "282\n",
      "285\n",
      "288\n",
      "290\n",
      "291\n",
      "294\n",
      "295\n",
      "297\n",
      "300\n",
      "303\n",
      "305\n",
      "306\n",
      "309\n",
      "310\n",
      "312\n",
      "315\n",
      "318\n",
      "320\n",
      "321\n",
      "324\n",
      "325\n",
      "327\n",
      "330\n",
      "333\n",
      "335\n",
      "336\n",
      "339\n",
      "340\n",
      "342\n",
      "345\n",
      "348\n",
      "350\n",
      "351\n",
      "354\n",
      "355\n",
      "357\n",
      "360\n",
      "363\n",
      "365\n",
      "366\n",
      "369\n",
      "370\n",
      "372\n",
      "375\n",
      "378\n",
      "380\n",
      "381\n",
      "384\n",
      "385\n",
      "387\n",
      "390\n",
      "393\n",
      "395\n",
      "396\n",
      "399\n",
      "400\n",
      "402\n",
      "405\n",
      "408\n",
      "410\n",
      "411\n",
      "414\n",
      "415\n",
      "417\n",
      "420\n",
      "423\n",
      "425\n",
      "426\n",
      "429\n",
      "430\n",
      "432\n",
      "435\n",
      "438\n",
      "440\n",
      "441\n",
      "444\n",
      "445\n",
      "447\n",
      "450\n",
      "453\n",
      "455\n",
      "456\n",
      "459\n",
      "460\n",
      "462\n",
      "465\n",
      "468\n",
      "470\n",
      "471\n",
      "474\n",
      "475\n",
      "477\n",
      "480\n",
      "483\n",
      "485\n",
      "486\n",
      "489\n",
      "490\n",
      "492\n",
      "495\n",
      "498\n",
      "500\n",
      "501\n",
      "504\n",
      "505\n",
      "507\n",
      "510\n",
      "513\n",
      "515\n",
      "516\n",
      "519\n",
      "520\n",
      "522\n",
      "525\n",
      "528\n",
      "530\n",
      "531\n",
      "534\n",
      "535\n",
      "537\n",
      "540\n",
      "543\n",
      "545\n",
      "546\n",
      "549\n",
      "550\n",
      "552\n",
      "555\n",
      "558\n",
      "560\n",
      "561\n",
      "564\n",
      "565\n",
      "567\n",
      "570\n",
      "573\n",
      "575\n",
      "576\n",
      "579\n",
      "580\n",
      "582\n",
      "585\n",
      "588\n",
      "590\n",
      "591\n",
      "594\n",
      "595\n",
      "597\n",
      "600\n",
      "603\n",
      "605\n",
      "606\n",
      "609\n",
      "610\n",
      "612\n",
      "615\n",
      "618\n",
      "620\n",
      "621\n",
      "624\n",
      "625\n",
      "627\n",
      "630\n",
      "633\n",
      "635\n",
      "636\n",
      "639\n",
      "640\n",
      "642\n",
      "645\n",
      "648\n",
      "650\n",
      "651\n",
      "654\n",
      "655\n",
      "657\n",
      "660\n",
      "663\n",
      "665\n",
      "666\n",
      "669\n",
      "670\n",
      "672\n",
      "675\n",
      "678\n",
      "680\n",
      "681\n",
      "684\n",
      "685\n",
      "687\n",
      "690\n",
      "693\n",
      "695\n",
      "696\n",
      "699\n",
      "700\n",
      "702\n",
      "705\n",
      "708\n",
      "710\n",
      "711\n",
      "714\n",
      "715\n",
      "717\n",
      "720\n",
      "723\n",
      "725\n",
      "726\n",
      "729\n",
      "730\n",
      "732\n",
      "735\n",
      "738\n",
      "740\n",
      "741\n",
      "744\n",
      "745\n",
      "747\n",
      "750\n",
      "753\n",
      "755\n",
      "756\n",
      "759\n",
      "760\n",
      "762\n",
      "765\n",
      "768\n",
      "770\n",
      "771\n",
      "774\n",
      "775\n",
      "777\n",
      "780\n",
      "783\n",
      "785\n",
      "786\n",
      "789\n",
      "790\n",
      "792\n",
      "795\n",
      "798\n",
      "800\n",
      "801\n",
      "804\n",
      "805\n",
      "807\n",
      "810\n",
      "813\n",
      "815\n",
      "816\n",
      "819\n",
      "820\n",
      "822\n",
      "825\n",
      "828\n",
      "830\n",
      "831\n",
      "834\n",
      "835\n",
      "837\n",
      "840\n",
      "843\n",
      "845\n",
      "846\n",
      "849\n",
      "850\n",
      "852\n",
      "855\n",
      "858\n",
      "860\n",
      "861\n",
      "864\n",
      "865\n",
      "867\n",
      "870\n",
      "873\n",
      "875\n",
      "876\n",
      "879\n",
      "880\n",
      "882\n",
      "885\n",
      "888\n",
      "890\n",
      "891\n",
      "894\n",
      "895\n",
      "897\n",
      "900\n",
      "903\n",
      "905\n",
      "906\n",
      "909\n",
      "910\n",
      "912\n",
      "915\n",
      "918\n",
      "920\n",
      "921\n",
      "924\n",
      "925\n",
      "927\n",
      "930\n",
      "933\n",
      "935\n",
      "936\n",
      "939\n",
      "940\n",
      "942\n",
      "945\n",
      "948\n",
      "950\n",
      "951\n",
      "954\n",
      "955\n",
      "957\n",
      "960\n",
      "963\n",
      "965\n",
      "966\n",
      "969\n",
      "970\n",
      "972\n",
      "975\n",
      "978\n",
      "980\n",
      "981\n",
      "984\n",
      "985\n",
      "987\n",
      "990\n",
      "993\n",
      "995\n",
      "996\n",
      "999\n",
      "233168\n"
     ]
    }
   ],
   "source": [
    "\n",
    "\n",
    "toplam = 0\n",
    "\n",
    "for i in range(0,1000):\n",
    "    if i % 3 == 0 or i % 5 == 0:\n",
    "        toplam += i\n",
    "        print(i)\n",
    "print(toplam)\n",
    "        \n"
   ]
  },
  {
   "attachments": {},
   "cell_type": "markdown",
   "metadata": {},
   "source": [
    "Örnek 48:  0 ile 100 arasında 10 tane rastgele tam sayı üreten ve bu sayılardan en büyüğü ile en küçüğünü bulan ve ekranda gösteren python kodunu yazınız."
   ]
  },
  {
   "cell_type": "code",
   "execution_count": 15,
   "metadata": {},
   "outputs": [
    {
     "name": "stdout",
     "output_type": "stream",
     "text": [
      "1. sınıf\n",
      "2. sınıf\n",
      "3. sınıf\n",
      "4. sınıf\n",
      "5. sınıf\n",
      "6. sınıf\n",
      "7. sınıf\n",
      "8. sınıf\n",
      "9. sınıf\n",
      "10. sınıf\n",
      "11. sınıf\n",
      "12. sınıf\n"
     ]
    }
   ],
   "source": [
    "sayi = 1\n",
    "\n",
    "while sayi < 13:\n",
    "    print(f\"{sayi}. sınıf\")\n",
    "    sayi += 1\n"
   ]
  },
  {
   "cell_type": "code",
   "execution_count": 18,
   "metadata": {},
   "outputs": [],
   "source": [
    "sayi = int(input(\"1 ile 5 arasında bir sayı girin:\"))\n",
    "\n",
    "while sayi == 3:\n",
    "    print(f\"{sayi} sayısı girildi ve döngü sona erdi.\")\n",
    "    break"
   ]
  },
  {
   "attachments": {},
   "cell_type": "markdown",
   "metadata": {},
   "source": [
    "Örnek 3: Kullanıcıdan 8 karakterlik bir şifre girmesini isteyiniz. Kullanıcı 8’den az ya da daha fazla karakter içeren bir şifre girdiğinde “Şifreniz 8 karakter olmalıdır.” şeklinde uyarı verdiriniz. Kullanıcı şartlara uygun bir şifre girdiğinde de “Şifreniz kaydedildi.” uyarısı verdiriniz."
   ]
  },
  {
   "cell_type": "code",
   "execution_count": 2,
   "metadata": {},
   "outputs": [
    {
     "name": "stdout",
     "output_type": "stream",
     "text": [
      "Şifreniz 8 karakter olmalıdır.\n",
      "Şifreniz 8 karakter olmalıdır.\n",
      "Şifreniz 8 karakter olmalıdır.\n",
      "Şifreniz 8 karakter olmalıdır.\n",
      "Şifreniz 8 karakter olmalıdır.\n",
      "Şifreniz: 12345678 Şifreniz kaydedildi.\n"
     ]
    }
   ],
   "source": [
    "while True:\n",
    "    sifre = input(\"8 karakterden oluşan bir şifre girin:\")\n",
    "    \n",
    "    if len(sifre) != 8:\n",
    "        print(\"Şifreniz 8 karakter olmalıdır.\")\n",
    "        \n",
    "    else:\n",
    "        print(f\"Şifreniz: {sifre} Şifreniz kaydedildi.\")\n",
    "        break"
   ]
  },
  {
   "attachments": {},
   "cell_type": "markdown",
   "metadata": {},
   "source": [
    "Örnek 4: Girilen metnin harflerini alt alta yazdıran Python programı"
   ]
  },
  {
   "cell_type": "code",
   "execution_count": 9,
   "metadata": {},
   "outputs": [
    {
     "name": "stdout",
     "output_type": "stream",
     "text": [
      "S\n",
      "A\n",
      "m\n",
      "s\n",
      "u\n",
      "n\n",
      "s\n",
      "p\n",
      "o\n",
      "r\n"
     ]
    }
   ],
   "source": [
    "metin = input(\"Metin girin:\")\n",
    "\n",
    "index = 0\n",
    "\n",
    "while index < len(metin):\n",
    "    print(metin[index])\n",
    "    index += 1\n",
    "    \n",
    "    "
   ]
  },
  {
   "cell_type": "code",
   "execution_count": 3,
   "metadata": {},
   "outputs": [
    {
     "data": {
      "text/plain": [
       "[30, 85, 26, 53, 73, 49, 60, 24, 34, 10]"
      ]
     },
     "execution_count": 3,
     "metadata": {},
     "output_type": "execute_result"
    }
   ],
   "source": [
    "import random\n",
    "\n",
    "liste = range(100)  # 0'dan 100'e kadar 10 tane rastgele sayı listeleme\n",
    "\n",
    "random.sample(liste, 10)"
   ]
  },
  {
   "cell_type": "code",
   "execution_count": 7,
   "metadata": {},
   "outputs": [
    {
     "name": "stdout",
     "output_type": "stream",
     "text": [
      "Tek sayılar: [1, 45, 69, 55, 47, 45, 49]\n",
      "Çift sayılar: [22, 58, 46, 48, 50, 40]\n"
     ]
    }
   ],
   "source": [
    "liste_1 = [1, 45, 22, 69, 58, 55, 47, 45, 46, 48, 49, 50, 40]\n",
    "\n",
    "tek_sayi = []\n",
    "cift_sayi = []\n",
    "index = 0\n",
    "\n",
    "while index < len(liste_1):\n",
    "    if liste_1[index] % 2 == 1:\n",
    "        tek_sayi.append(liste_1[index])\n",
    "    else:\n",
    "        cift_sayi.append(liste_1[index])\n",
    "    index += 1\n",
    "\n",
    "print(f\"Tek sayılar: {tek_sayi}\")\n",
    "print(f\"Çift sayılar: {cift_sayi}\")"
   ]
  },
  {
   "cell_type": "code",
   "execution_count": 10,
   "metadata": {},
   "outputs": [
    {
     "name": "stdout",
     "output_type": "stream",
     "text": [
      "[(1, 'a'), (2, 'b'), (3, 'c'), (4, 'd')]\n"
     ]
    }
   ],
   "source": [
    "# iki listeyi eşleştirme\n",
    "\n",
    "listesayi = [1, 2, 3, 4]\n",
    "listeHarf = [\"a\", \"b\", \"c\", \"d\", \"e\"]\n",
    "\n",
    "index = 0\n",
    "liste = []\n",
    "\n",
    "while (index < len(listesayi)) and index < len(listeHarf):\n",
    "    liste.append((listesayi[index], listeHarf[index]))\n",
    "    index += 1\n",
    "    \n",
    "    \n",
    "print(liste)\n",
    "    \n",
    "    \n",
    " "
   ]
  },
  {
   "cell_type": "code",
   "execution_count": 11,
   "metadata": {},
   "outputs": [
    {
     "name": "stdout",
     "output_type": "stream",
     "text": [
      "[8, 12, 14, 23, 25, 31, 32, 38, 40, 43, 49]\n"
     ]
    }
   ],
   "source": [
    "#num listesindeki min ve max sayılar arasında kayıp tam sayılar bulunmaktadır. kayıp sayıları bulun\n",
    "\n",
    "num = [48, 10, 11, 21, 36, 5, 6, 52, 28, 29,\n",
    "       53, 54, 45, 19, 20, 47, 55, 39, 41, 7,\n",
    "       9, 17, 26, 27, 42, 22, 37, 51, 46, 18,\n",
    "       44, 30, 34, 13, 15, 35, 33, 16, 50, 24]\n",
    "\n",
    "liste = []\n",
    "\n",
    "for i in range(min(num), max(num)+1):\n",
    "    if i not in num:\n",
    "        liste.append(i)\n",
    "print(liste)"
   ]
  },
  {
   "cell_type": "code",
   "execution_count": 12,
   "metadata": {},
   "outputs": [
    {
     "name": "stdout",
     "output_type": "stream",
     "text": [
      "[8, 12, 14, 23, 25, 31, 32, 38, 40, 43, 49]\n"
     ]
    }
   ],
   "source": [
    "#num listesindeki min ve max sayılar arasında kayıp tam sayılar bulunmaktadır. kayıp sayıları bulun\n",
    "\n",
    "num = [48, 10, 11, 21, 36, 5, 6, 52, 28, 29,\n",
    "       53, 54, 45, 19, 20, 47, 55, 39, 41, 7,\n",
    "       9, 17, 26, 27, 42, 22, 37, 51, 46, 18,\n",
    "       44, 30, 34, 13, 15, 35, 33, 16, 50, 24]\n",
    "\n",
    "liste = []\n",
    "\n",
    "for i in range(min(num), max(num)+1):\n",
    "    if i in num:\n",
    "        continue\n",
    "    liste.append(i)\n",
    "        \n",
    "print(liste)"
   ]
  },
  {
   "cell_type": "code",
   "execution_count": 13,
   "metadata": {},
   "outputs": [
    {
     "name": "stdout",
     "output_type": "stream",
     "text": [
      "{5, 6, 7, 8, 9, 10, 11, 12, 13, 14, 15, 16, 17, 18, 19, 20, 21, 22, 23, 24, 25, 26, 27, 28, 29, 30, 31, 32, 33, 34, 35, 36, 37, 38, 39, 40, 41, 42, 43, 44, 45, 46, 47, 48, 49, 50, 51, 52, 53, 54, 55}\n"
     ]
    }
   ],
   "source": [
    "print(set(range(min(num), max(num)+1)))"
   ]
  },
  {
   "cell_type": "code",
   "execution_count": 14,
   "metadata": {},
   "outputs": [
    {
     "name": "stdout",
     "output_type": "stream",
     "text": [
      "{5, 6, 7, 9, 10, 11, 13, 15, 16, 17, 18, 19, 20, 21, 22, 24, 26, 27, 28, 29, 30, 33, 34, 35, 36, 37, 39, 41, 42, 44, 45, 46, 47, 48, 50, 51, 52, 53, 54, 55}\n"
     ]
    }
   ],
   "source": [
    "print(set(num))"
   ]
  },
  {
   "cell_type": "code",
   "execution_count": 17,
   "metadata": {},
   "outputs": [
    {
     "data": {
      "text/plain": [
       "{8, 12, 14, 23, 25, 31, 32, 38, 40, 43, 49}"
      ]
     },
     "execution_count": 17,
     "metadata": {},
     "output_type": "execute_result"
    }
   ],
   "source": [
    "(set(range(min(num), max(num)+1))) - (set(num))"
   ]
  },
  {
   "cell_type": "code",
   "execution_count": 18,
   "metadata": {},
   "outputs": [
    {
     "name": "stdout",
     "output_type": "stream",
     "text": [
      "[10, 11, 5, 52, 28, 29, 53, 19, 20, 47, 55, 41, 7, 17, 26, 22, 37, 46, 44, 34, 13, 35, 16, 50]\n"
     ]
    }
   ],
   "source": [
    "# num listesi içindeki sayılardan 3 e bölünemeyenleri bulun\n",
    "\n",
    "num = [48, 10, 11, 21, 36, 5, 6, 52, 28, 29,\n",
    "       53, 54, 45, 19, 20, 47, 55, 39, 41, 7,\n",
    "       9, 17, 26, 27, 42, 22, 37, 51, 46, 18,\n",
    "       44, 30, 34, 13, 15, 35, 33, 16, 50, 24]\n",
    "\n",
    "empty_list = []\n",
    "\n",
    "for i in num:\n",
    "    if i % 3 == 0:\n",
    "        continue\n",
    "    empty_list.append(i)\n",
    "\n",
    "print(empty_list)"
   ]
  },
  {
   "cell_type": "code",
   "execution_count": 19,
   "metadata": {},
   "outputs": [],
   "source": [
    "empty_list.sort()"
   ]
  },
  {
   "cell_type": "code",
   "execution_count": 21,
   "metadata": {},
   "outputs": [
    {
     "name": "stdout",
     "output_type": "stream",
     "text": [
      "[5, 7, 10, 11, 13, 16, 17, 19, 20, 22, 26, 28, 29, 34, 35, 37, 41, 44, 46, 47, 50, 52, 53, 55]\n"
     ]
    }
   ],
   "source": [
    "print(empty_list)"
   ]
  },
  {
   "attachments": {},
   "cell_type": "markdown",
   "metadata": {},
   "source": [
    "### 1-) Kullanıcın girdiği 5 basamaklı bir sayının, basamaklarının toplamını ekrana yazdıran python kodlarını yazınız?"
   ]
  },
  {
   "cell_type": "code",
   "execution_count": 52,
   "metadata": {},
   "outputs": [
    {
     "name": "stdout",
     "output_type": "stream",
     "text": [
      "Hatalı giriş yaptınız. Tekrar deneyin.\n"
     ]
    }
   ],
   "source": [
    "sayi = input(\"5 basamaklı bir sayı girin:\")\n",
    "toplam = 0\n",
    "if sayi.isnumeric() and len(sayi) == 5 and not sayi.startswith(\"0\"):\n",
    "    \n",
    "    for i in sayi:\n",
    "        toplam += int(i)\n",
    "    print(f\"Basamak toplamı: {toplam}\")\n",
    "    \n",
    "else:\n",
    "    print(\"Hatalı giriş yaptınız. Tekrar deneyin.\")\n",
    "        \n"
   ]
  },
  {
   "cell_type": "code",
   "execution_count": 16,
   "metadata": {},
   "outputs": [
    {
     "data": {
      "text/plain": [
       "'techpro'"
      ]
     },
     "execution_count": 16,
     "metadata": {},
     "output_type": "execute_result"
    }
   ],
   "source": [
    "dict_4 = {1 : \"özgür\", 2 : \"aktaş\", 3 : \"techpro\"}\n",
    "dict_4[3]"
   ]
  },
  {
   "cell_type": "code",
   "execution_count": 5,
   "metadata": {},
   "outputs": [
    {
     "data": {
      "text/plain": [
       "<enumerate at 0x21898ba6e80>"
      ]
     },
     "execution_count": 5,
     "metadata": {},
     "output_type": "execute_result"
    }
   ],
   "source": [
    "enumerate(\"özgür\")"
   ]
  },
  {
   "cell_type": "code",
   "execution_count": 6,
   "metadata": {},
   "outputs": [
    {
     "data": {
      "text/plain": [
       "[(0, 'ö'), (1, 'z'), (2, 'g'), (3, 'ü'), (4, 'r')]"
      ]
     },
     "execution_count": 6,
     "metadata": {},
     "output_type": "execute_result"
    }
   ],
   "source": [
    "list(enumerate(\"özgür\"))"
   ]
  },
  {
   "cell_type": "code",
   "execution_count": 9,
   "metadata": {},
   "outputs": [
    {
     "data": {
      "text/plain": [
       "{0: 'ö', 1: 'z', 2: 'g', 3: 'ü', 4: 'r'}"
      ]
     },
     "execution_count": 9,
     "metadata": {},
     "output_type": "execute_result"
    }
   ],
   "source": [
    "dict(enumerate(\"özgür\"))\n"
   ]
  },
  {
   "cell_type": "code",
   "execution_count": 10,
   "metadata": {},
   "outputs": [
    {
     "data": {
      "text/plain": [
       "{100: 'ö', 101: 'z', 102: 'g', 103: 'ü', 104: 'r'}"
      ]
     },
     "execution_count": 10,
     "metadata": {},
     "output_type": "execute_result"
    }
   ],
   "source": [
    "dict(enumerate(\"özgür\",100))"
   ]
  },
  {
   "attachments": {},
   "cell_type": "markdown",
   "metadata": {},
   "source": [
    "### Kullanıcıdan alınan sayının çarpım tablosunu çıktı olarak veren algoritmayı oluşturun ?"
   ]
  },
  {
   "cell_type": "code",
   "execution_count": 28,
   "metadata": {},
   "outputs": [
    {
     "name": "stdout",
     "output_type": "stream",
     "text": [
      "5 x 0  = 0\n",
      "5 x 1  = 5\n",
      "5 x 2  = 10\n",
      "5 x 3  = 15\n",
      "5 x 4  = 20\n",
      "5 x 5  = 25\n",
      "5 x 6  = 30\n",
      "5 x 7  = 35\n",
      "5 x 8  = 40\n",
      "5 x 9  = 45\n",
      "5 x 10 = 50\n"
     ]
    }
   ],
   "source": [
    "sayi = int(input(\"Sayı:\"))\n",
    "\n",
    "for i in range(11):\n",
    "    print(f\"{sayi} x {i:<2} = {sayi * i}\")"
   ]
  },
  {
   "attachments": {},
   "cell_type": "markdown",
   "metadata": {},
   "source": [
    "### Bir rakam kabul eden ve n+nn+nnn değerini hesaplayan bir Python programı yazın."
   ]
  },
  {
   "cell_type": "code",
   "execution_count": 37,
   "metadata": {},
   "outputs": [
    {
     "name": "stdout",
     "output_type": "stream",
     "text": [
      "369\n"
     ]
    }
   ],
   "source": [
    "rakam = input(\"Rakam girin:\")\n",
    "\n",
    "if rakam.isnumeric() and len(rakam) == 1:\n",
    "    toplam = int(rakam) + int(rakam * 2) + int(rakam * 3)\n",
    "    print(toplam)\n",
    "\n",
    "else:\n",
    "    print(\"Hatalı giriş. Rakam girin.\")"
   ]
  },
  {
   "attachments": {},
   "cell_type": "markdown",
   "metadata": {},
   "source": [
    "### Size verilen veya kullanıcıdan aldığınız bir stringin ilk karakterini değiştirmeden ilk karakter ile aynı olan karakteri ? ile değiştiren kodu yazınız ?\n"
   ]
  },
  {
   "cell_type": "code",
   "execution_count": 78,
   "metadata": {},
   "outputs": [
    {
     "name": "stdout",
     "output_type": "stream",
     "text": [
      "ma?a?a?a?a?a\n"
     ]
    }
   ],
   "source": [
    "string = input(\"String:\")\n",
    "\n",
    "for i in string:\n",
    "    aa = string.capitalize().replace(string[0],\"?\").lower()\n",
    "    \n",
    "print(aa)\n",
    "    \n"
   ]
  },
  {
   "cell_type": "code",
   "execution_count": 79,
   "metadata": {},
   "outputs": [
    {
     "name": "stdout",
     "output_type": "stream",
     "text": [
      "resta?t\n"
     ]
    }
   ],
   "source": [
    "text = \"restart\"\n",
    "new_text = text[0]\n",
    "\n",
    "for i in range(1, len(text)):\n",
    "    if text[i] == text[0]:\n",
    "        new_text += \"?\"\n",
    "    else:\n",
    "        new_text += text[i]\n",
    "        \n",
    "print(new_text)\n"
   ]
  },
  {
   "attachments": {},
   "cell_type": "markdown",
   "metadata": {},
   "source": [
    "### Write a python code that separates numbers 1 to 50 as even or odd"
   ]
  },
  {
   "cell_type": "code",
   "execution_count": 81,
   "metadata": {},
   "outputs": [
    {
     "name": "stdout",
     "output_type": "stream",
     "text": [
      "odd: [1, 3, 5, 7, 9, 11, 13, 15, 17, 19, 21, 23, 25, 27, 29, 31, 33, 35, 37, 39, 41, 43, 45, 47, 49]\n",
      "even: [2, 4, 6, 8, 10, 12, 14, 16, 18, 20, 22, 24, 26, 28, 30, 32, 34, 36, 38, 40, 42, 44, 46, 48, 50]\n"
     ]
    }
   ],
   "source": [
    "even = []\n",
    "odd = []\n",
    "\n",
    "for i in range(1,51):\n",
    "    if i % 2:\n",
    "        odd.append(i)\n",
    "    else:\n",
    "        even.append(i)\n",
    "        \n",
    "print(\"odd: {}\\neven: {}\".format(odd,even))\n",
    "        \n"
   ]
  },
  {
   "cell_type": "code",
   "execution_count": 89,
   "metadata": {},
   "outputs": [
    {
     "name": "stdout",
     "output_type": "stream",
     "text": [
      "[1, 3, 5, 7, 9, 11, 13, 15, 17, 19, 21, 23, 25, 27, 29, 31, 33, 35, 37, 39, 41, 43, 45, 47, 49]\n",
      "[2, 4, 6, 8, 10, 12, 14, 16, 18, 20, 22, 24, 26, 28, 30, 32, 34, 36, 38, 40, 42, 44, 46, 48, 50]\n"
     ]
    }
   ],
   "source": [
    "odds = [ i for i in range(1,51) if i % 2 ]\n",
    "evens = [ i for i in range(1,51) if i % 2 == 0 ]\n",
    "print(odds)\n",
    "print(evens)"
   ]
  },
  {
   "cell_type": "code",
   "execution_count": 91,
   "metadata": {},
   "outputs": [
    {
     "name": "stdout",
     "output_type": "stream",
     "text": [
      "odds: [1, 3, 5, 7, 9, 11, 13, 15, 17, 19, 21, 23, 25, 27, 29, 31, 33, 35, 37, 39, 41, 43, 45, 47, 49]\n",
      "evens: [2, 4, 6, 8, 10, 12, 14, 16, 18, 20, 22, 24, 26, 28, 30, 32, 34, 36, 38, 40, 42, 44, 46, 48, 50]\n"
     ]
    }
   ],
   "source": [
    "print(f\"odds: {[ i for i in range(1,51) if i % 2 ]}\")\n",
    "print(f\"evens: {[ i for i in range(1,51) if i % 2 == 0 ]}\")"
   ]
  },
  {
   "attachments": {},
   "cell_type": "markdown",
   "metadata": {},
   "source": [
    "### 2-) Klavyeden kullanicinin girdiği 3 adet integer türünde ki sayiyi\n",
    "büyükten küçüğe siralayarak ortadaki sayi ile büyük olan sayinin arasindaki farki ve\n",
    "yine ortadaki sayi ile küçük olan sayi ile arasindaki farki ekrana yazdiran\n",
    "python kodlarini yaziniz?\""
   ]
  },
  {
   "cell_type": "code",
   "execution_count": 13,
   "metadata": {},
   "outputs": [
    {
     "name": "stdout",
     "output_type": "stream",
     "text": [
      "Büyük sayı: 98\n",
      "Ortanca sayı: 67\n",
      "Küçük sayı: 34\n",
      "Ortanca sayı ile büyük sayı arasındaki fark: -31\n",
      "Ortanca sayı ile küçük sayı arasındaki fark: 33\n"
     ]
    }
   ],
   "source": [
    "number_1 = int(input(\"Birinci sayı:\"))\n",
    "number_2 = int(input(\"İkinci sayı:\"))\n",
    "number_3 = int(input(\"Üçüncü sayı:\"))\n",
    "\n",
    "empty_list = []\n",
    "\n",
    "for i in number_1,number_2,number_3:\n",
    "    empty_list.append(i)\n",
    "    empty_list.sort(reverse=True)\n",
    "\n",
    "print(\"Büyük sayı: {}\\nOrtanca sayı: {}\\nKüçük sayı: {}\".format(empty_list[0],empty_list[1],empty_list[2]))\n",
    "print(f\"Ortanca sayı ile büyük sayı arasındaki fark: {empty_list[1] - empty_list[0]}\")\n",
    "print(f\"Ortanca sayı ile küçük sayı arasındaki fark: {empty_list[1] - empty_list[2]}\")\n",
    "        \n"
   ]
  },
  {
   "attachments": {},
   "cell_type": "markdown",
   "metadata": {},
   "source": [
    "### fonksiyon içine bir string alsın. palindrom'mu değil mi diye kontrol etsin. (düzü ve tersi aynı kelime = palindrom)"
   ]
  },
  {
   "cell_type": "markdown",
   "metadata": {},
   "source": []
  },
  {
   "cell_type": "code",
   "execution_count": 4,
   "metadata": {},
   "outputs": [],
   "source": [
    "def palindrom(x):\n",
    "    \n",
    "    if str(x) == str(x)[::-1]:\n",
    "        print(\"Palindrom\")\n",
    "    else:\n",
    "        print(\"Palindrom değil\")\n",
    "        \n"
   ]
  },
  {
   "cell_type": "code",
   "execution_count": 10,
   "metadata": {},
   "outputs": [
    {
     "name": "stdout",
     "output_type": "stream",
     "text": [
      "Palindrom değil\n"
     ]
    }
   ],
   "source": [
    "palindrom(\"techpro\")"
   ]
  },
  {
   "cell_type": "code",
   "execution_count": 18,
   "metadata": {},
   "outputs": [
    {
     "data": {
      "text/plain": [
       "'özGür'"
      ]
     },
     "execution_count": 18,
     "metadata": {},
     "output_type": "execute_result"
    }
   ],
   "source": [
    "a = \"özgür\"\n",
    "\n",
    "a[0:2] + a[2:3].upper() + a[3:] "
   ]
  },
  {
   "cell_type": "code",
   "execution_count": 21,
   "metadata": {},
   "outputs": [
    {
     "name": "stdout",
     "output_type": "stream",
     "text": [
      "['Ankara', 'aNkara', 'anKara', 'ankAra', 'ankaRa', 'ankarA']\n"
     ]
    }
   ],
   "source": [
    "kelime = input(\"Kelime girin:\").lower()\n",
    "list = []\n",
    "for i in range(len(kelime)):\n",
    "    a = kelime[:i] + kelime[i:i+1].upper() + kelime[i+1:]\n",
    "    list.append(a)\n",
    "\n",
    "print(list) \n",
    "\n"
   ]
  },
  {
   "cell_type": "code",
   "execution_count": 17,
   "metadata": {},
   "outputs": [
    {
     "name": "stdout",
     "output_type": "stream",
     "text": [
      "['özgüR']\n"
     ]
    }
   ],
   "source": [
    "kelime = input(\"Kelime girin:\").lower()\n",
    "list = []\n",
    "for i in range(len(kelime)):\n",
    "    liste = [(kelime[:i] + kelime[i:i+1].upper() + kelime[i+1:])]\n",
    "print(liste)\n",
    "    \n",
    "\n"
   ]
  },
  {
   "attachments": {},
   "cell_type": "markdown",
   "metadata": {},
   "source": [
    "## Kullanıcın girdiği 5 basamaklı bir sayının,\n",
    "## basamaklarının toplamını ekrana yazdıran python kodlarını yazınız?"
   ]
  },
  {
   "cell_type": "code",
   "execution_count": 14,
   "metadata": {},
   "outputs": [
    {
     "name": "stdout",
     "output_type": "stream",
     "text": [
      "Hatalı giriş\n"
     ]
    }
   ],
   "source": [
    "sayi = input(\"5 basamaklı bir sayı girin:\")\n",
    "toplam = 0\n",
    "\n",
    "if sayi.isnumeric() and len(sayi) == 5 and not sayi.startswith(\"0\"):\n",
    "    for i in sayi:\n",
    "        toplam += int(i)\n",
    "    print(f\"{sayi} sayısının basamak değerleri toplamı: {toplam}\")\n",
    "else:\n",
    "    print(\"Hatalı giriş\")"
   ]
  },
  {
   "cell_type": "code",
   "execution_count": 16,
   "metadata": {},
   "outputs": [
    {
     "name": "stdout",
     "output_type": "stream",
     "text": [
      "52525 sayisinin basamaklarinin toplami : 19\n",
      "52525 sayisinin basamaklarinin toplami : 19\n"
     ]
    }
   ],
   "source": [
    "x = input(\"Lutfen bir 5 basamakli bir sayi giriniz\")\n",
    "if x.isnumeric() and len(x) == 5 :\n",
    "    x = int(x)\n",
    "    basamak_toplam = 0\n",
    "    temp = x\n",
    "    while x > 0 :\n",
    "        basamak_toplam += x%10\n",
    "        x //= 10\n",
    "    print(f\"{temp} sayisinin basamaklarinin toplami : {basamak_toplam}\")\n",
    "    print(temp, \"sayisinin basamaklarinin toplami :\", basamak_toplam)\n",
    "else :\n",
    "        print(\"Lutfen 5 basamakli bir sayi giriniz\")"
   ]
  },
  {
   "cell_type": "code",
   "execution_count": 29,
   "metadata": {},
   "outputs": [
    {
     "name": "stdout",
     "output_type": "stream",
     "text": [
      "Erhan\n"
     ]
    }
   ],
   "source": [
    "#verilen bir listenin icinden alfabetik olanlarin icinden belirtilen harf ile baslayanlarin arasindan buyuk harf olan verileri bulunuz\n",
    "\n",
    "students = [\"Erhan\", \"Adem\", \"12aa\",\"ali\",\"Asli123\"]\n",
    "\n",
    "for i in students:\n",
    "    if i.isalpha() and i.startswith(\"E\") and i.upper():\n",
    "        print(i)\n",
    "   \n"
   ]
  }
 ],
 "metadata": {
  "kernelspec": {
   "display_name": "base",
   "language": "python",
   "name": "python3"
  },
  "language_info": {
   "codemirror_mode": {
    "name": "ipython",
    "version": 3
   },
   "file_extension": ".py",
   "mimetype": "text/x-python",
   "name": "python",
   "nbconvert_exporter": "python",
   "pygments_lexer": "ipython3",
   "version": "3.9.12"
  },
  "orig_nbformat": 4,
  "vscode": {
   "interpreter": {
    "hash": "875f02f927ff789742ebe739606a64278d49e89bb93d2e50f440b0eaa534aac3"
   }
  }
 },
 "nbformat": 4,
 "nbformat_minor": 2
}
