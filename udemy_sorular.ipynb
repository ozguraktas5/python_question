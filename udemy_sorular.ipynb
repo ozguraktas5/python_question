{
 "cells": [
  {
   "cell_type": "code",
   "execution_count": 33,
   "metadata": {},
   "outputs": [],
   "source": [
    "# input\n",
    "s1 = \"sarı\"\n",
    "s2 = \"mehmet\"\n",
    "\n",
    "#output\n",
    "s3 = \"samehmetrı\"\n"
   ]
  },
  {
   "cell_type": "code",
   "execution_count": 34,
   "metadata": {},
   "outputs": [
    {
     "data": {
      "text/plain": [
       "'samehmetrı'"
      ]
     },
     "execution_count": 34,
     "metadata": {},
     "output_type": "execute_result"
    }
   ],
   "source": [
    "ilk_bolum = s1[:len(s1) // 2]\n",
    "son_bolum = s1[len(s1) // 2:]\n",
    "\n",
    "son_hali = ilk_bolum + s2 + son_bolum\n",
    "son_hali"
   ]
  },
  {
   "cell_type": "code",
   "execution_count": 36,
   "metadata": {},
   "outputs": [
    {
     "data": {
      "text/plain": [
       "'yeşmehmetil'"
      ]
     },
     "execution_count": 36,
     "metadata": {},
     "output_type": "execute_result"
    }
   ],
   "source": [
    "s4 = \"yeşil\"   # ilk 3 karakter başta 2 karakter sonda olursa \n",
    "\n",
    "ilk_bolum = s4[:len(s4) // 2+1]\n",
    "son_bolum = s4[len(s4) // 2+1:]\n",
    "\n",
    "son_hali = ilk_bolum + s2 + son_bolum\n",
    "son_hali"
   ]
  },
  {
   "attachments": {},
   "cell_type": "markdown",
   "metadata": {},
   "source": [
    "### Kullanıcıdan aldığınız bir dizenin ilk 3 ve son 3 karakterinden oluşan bir dize döndürün. Dize uzunluğu 3'ten az ise, empty_string döndürün."
   ]
  },
  {
   "cell_type": "code",
   "execution_count": 51,
   "metadata": {},
   "outputs": [
    {
     "name": "stdout",
     "output_type": "stream",
     "text": [
      "ö\n",
      "\n"
     ]
    }
   ],
   "source": [
    "dize = input(\"Bir dize girin:\")\n",
    "empty_string = \"\"\n",
    "\n",
    "if len(dize) >= 3:\n",
    "    empty_string += dize[0:3] + dize[-3:]\n",
    "    print(dize)\n",
    "    print(empty_string)\n",
    "\n",
    "else:\n",
    "    print(dize)\n",
    "    print(empty_string)\n",
    "\n",
    "    "
   ]
  },
  {
   "attachments": {},
   "cell_type": "markdown",
   "metadata": {},
   "source": [
    "### Verilen dizede \"Mr.Bean\" alt dizesinin kaç kez göründüğünü bulan bir program yazın.\n"
   ]
  },
  {
   "cell_type": "code",
   "execution_count": 63,
   "metadata": {},
   "outputs": [
    {
     "name": "stdout",
     "output_type": "stream",
     "text": [
      "2\n"
     ]
    }
   ],
   "source": [
    "str_x = \"Mr.Bean is good actor and Mr.Bean is very funny\"\n",
    "x = 0\n",
    "for i in str_x:\n",
    "    if i == \"M\":\n",
    "        x += 1\n",
    "print(x)\n",
    "        \n"
   ]
  },
  {
   "cell_type": "code",
   "execution_count": 65,
   "metadata": {},
   "outputs": [
    {
     "name": "stdout",
     "output_type": "stream",
     "text": [
      "Mr.Bean appeared 2 times.\n"
     ]
    }
   ],
   "source": [
    "a = str_x.count(\"Mr.Bean\")  # f-string yöntemi\n",
    "print(f\"Mr.Bean appeared {a} times.\")"
   ]
  },
  {
   "cell_type": "code",
   "execution_count": 66,
   "metadata": {},
   "outputs": [
    {
     "name": "stdout",
     "output_type": "stream",
     "text": [
      "Mr.Bean appeared 2 times.\n"
     ]
    }
   ],
   "source": [
    "a = str_x.count(\"Mr.Bean\")  # format yöntemi\n",
    "print(\"Mr.Bean appeared {} times.\".format(a))"
   ]
  },
  {
   "cell_type": "code",
   "execution_count": 72,
   "metadata": {},
   "outputs": [
    {
     "name": "stdout",
     "output_type": "stream",
     "text": [
      "name: özgür\n",
      "age: 30\n",
      "job: deveolper\n"
     ]
    }
   ],
   "source": [
    "name = input(\"enter your name\")\n",
    "age = int(input(\"enter your age\"))\n",
    "job = input(\"enter your job\")\n",
    "\n",
    "print(f\"name: {name}\\nage: {age}\\njob: {job}\")"
   ]
  },
  {
   "cell_type": "code",
   "execution_count": 77,
   "metadata": {},
   "outputs": [
    {
     "name": "stdout",
     "output_type": "stream",
     "text": [
      "name: özgür\n",
      "age: 30\n",
      "job: developer\n"
     ]
    }
   ],
   "source": [
    "per = input(\"Please enter your name,age and job seperating them with comma\").split(\",\")\n",
    "\n",
    "print(\"name:\",per[0])\n",
    "print(\"age:\",per[1])\n",
    "print(\"job:\",per[2])"
   ]
  },
  {
   "attachments": {},
   "cell_type": "markdown",
   "metadata": {},
   "source": [
    "### Create an algorithm that asks the employee for weekly working hours and hourly wage information and ultimately calculates the employee's weekly salary.\n",
    "\n",
    "### Note >>> Work over 40 hours per week is paid 1.5 times the wage"
   ]
  },
  {
   "cell_type": "code",
   "execution_count": 5,
   "metadata": {},
   "outputs": [
    {
     "name": "stdout",
     "output_type": "stream",
     "text": [
      "4750\n"
     ]
    }
   ],
   "source": [
    "calisma_saati = int(input(\"Haftalık çalışma saatiniz nedir:\"))\n",
    "saatlik_ucret = int(input(\"Saatlik ücretiniz nedir:\"))\n",
    "\n",
    "\n",
    "if calisma_saati > 40:\n",
    "    haftalik_maas = (calisma_saati - 40) * (saatlik_ucret * 1.5) + (40 * saatlik_ucret)\n",
    "else:\n",
    "    haftalik_maas = calisma_saati * saatlik_ucret\n",
    "\n",
    "print(int(haftalik_maas))\n",
    "\n",
    "    "
   ]
  },
  {
   "attachments": {},
   "cell_type": "markdown",
   "metadata": {},
   "source": [
    "## Kullanıcıdan aldığınız iki tamsayı değeri eşitse veya bu sayıların farkı 5'in katı ise sonuç olarak True döndürecek bir algoritma oluşturun."
   ]
  },
  {
   "cell_type": "code",
   "execution_count": 9,
   "metadata": {},
   "outputs": [
    {
     "name": "stdout",
     "output_type": "stream",
     "text": [
      "True\n"
     ]
    }
   ],
   "source": [
    "a = int(input(\"Tamsayı:\"))\n",
    "b = int(input(\"Tamsayı:\"))\n",
    "\n",
    "if a == b or abs(a - b) % 5 == 0:\n",
    "    print(True)\n",
    "else:\n",
    "    print(False)"
   ]
  },
  {
   "attachments": {},
   "cell_type": "markdown",
   "metadata": {},
   "source": [
    "### Kullanıcıdan alınan iki nesne tamsayı türündeyse, iki nesneyi toplamak için bir Python programı yazın "
   ]
  },
  {
   "cell_type": "code",
   "execution_count": 15,
   "metadata": {},
   "outputs": [
    {
     "name": "stdout",
     "output_type": "stream",
     "text": [
      "3\n"
     ]
    }
   ],
   "source": [
    "x = input(\"Nesne:\")\n",
    "y = input(\"Nesne:\")\n",
    "\n",
    "if x.isdigit() and y.isdigit():\n",
    "    toplam = int(x) + int(y)\n",
    "    print(toplam)   \n",
    "else:\n",
    "    print(\"Lütfen tamsayı türünde nesne girin.\")\n",
    "\n"
   ]
  },
  {
   "attachments": {},
   "cell_type": "markdown",
   "metadata": {},
   "source": [
    "### Bir ülkenin adını ve yüzey alanını argüman olarak alan ve ülkenin toplam dünya kara kütlesine oranını veren bir program yazın."
   ]
  },
  {
   "cell_type": "code",
   "execution_count": 32,
   "metadata": {},
   "outputs": [
    {
     "name": "stdout",
     "output_type": "stream",
     "text": [
      "Türkiye dünya kara kütlesine oranı: 0.53\n"
     ]
    }
   ],
   "source": [
    "ulke_alan = input(\"Ülke adı girin:\")\n",
    "yuzey_alani = int(input(\"Yüzey alanı girin:\"))\n",
    "\n",
    "toplam_dunya_kk = 148940000\n",
    "\n",
    "if True: \n",
    "    oran = round((yuzey_alani / toplam_dunya_kk) * 100,2)\n",
    "print(\"{} dünya kara kütlesine oranı: {}\".format(ulke_alan,oran))\n",
    "\n"
   ]
  },
  {
   "attachments": {},
   "cell_type": "markdown",
   "metadata": {},
   "source": [
    "### Vücut kitle indeksinizi bulan bir algoritma oluşturun."
   ]
  },
  {
   "cell_type": "code",
   "execution_count": 10,
   "metadata": {},
   "outputs": [
    {
     "name": "stdout",
     "output_type": "stream",
     "text": [
      "vki: 28.38, Kişi Fazla Kilolu kategorisindedir.\n"
     ]
    }
   ],
   "source": [
    "kilo = int(input(\"Weight:\"))\n",
    "boy = float(input(\"Height:\"))\n",
    "\n",
    "vki = round(kilo / (boy ** 2),2)\n",
    "\n",
    "if vki <= 18.5:\n",
    "    durum = \"Zayıf\"\n",
    "elif vki <= 24.9:\n",
    "    durum = \"Normal\"\n",
    "elif vki <=29.9:\n",
    "    durum = \"Fazla Kilolu\"\n",
    "else:\n",
    "    durum = \"Obez\"\n",
    "\n",
    "print(f\"vki: {vki}, Kişi {durum} kategorisindedir.\")"
   ]
  },
  {
   "attachments": {},
   "cell_type": "markdown",
   "metadata": {},
   "source": [
    "### Write python code that extracts the phone number in a given string expression."
   ]
  },
  {
   "cell_type": "code",
   "execution_count": 21,
   "metadata": {},
   "outputs": [
    {
     "name": "stdout",
     "output_type": "stream",
     "text": [
      "1112223344\n"
     ]
    }
   ],
   "source": [
    "given_str = \"My phone number is (111) 222-33-44\"\n",
    "empty_str = \"\"\n",
    "for i in given_str:\n",
    "    if i.isnumeric():\n",
    "        empty_str += i\n",
    "print(empty_str)\n",
    "        \n",
    "    \n",
    "    \n",
    "\n",
    "    \n",
    "    \n"
   ]
  },
  {
   "attachments": {},
   "cell_type": "markdown",
   "metadata": {},
   "source": [
    "### Kullanıcıdan sınavdan aldığı notu isteyin ve notuna karşılık gelen harf notunu yazdırın."
   ]
  },
  {
   "cell_type": "code",
   "execution_count": 1,
   "metadata": {},
   "outputs": [
    {
     "name": "stdout",
     "output_type": "stream",
     "text": [
      "Student letter note: B\n"
     ]
    }
   ],
   "source": [
    "exam_note = int(input(\"Enter a exam note:\"))\n",
    "if 0 <= exam_note <= 100:\n",
    "    if 80 <= exam_note:\n",
    "        letter = \"A\"\n",
    "    elif exam_note <= 79:\n",
    "        letter = \"B\"\n",
    "    elif exam_note <= 64:\n",
    "        letter = \"C\"\n",
    "    elif exam_note <= 54:\n",
    "        letter = \"D\"\n",
    "    elif exam_note <= 49:\n",
    "        letter = \"F\"\n",
    "    print(f\"Student letter note: {letter}\")\n",
    "else:\n",
    "    print(\"Please a number login(0-100)\")\n"
   ]
  },
  {
   "attachments": {},
   "cell_type": "markdown",
   "metadata": {},
   "source": [
    "### Kullanıcıdan bir kelime alın ve bu kelimenin ilk harfinden başlayarak her seferinde bir harfi büyük harf olacak şekilde son harfe kadar işlemi tekrarlayan ve sonuçları liste içinde çıktı veren bir algoritma oluşturun."
   ]
  },
  {
   "cell_type": "code",
   "execution_count": 51,
   "metadata": {},
   "outputs": [
    {
     "data": {
      "text/plain": [
       "'özGür'"
      ]
     },
     "execution_count": 51,
     "metadata": {},
     "output_type": "execute_result"
    }
   ],
   "source": [
    "x = \"özgür\"\n",
    "\n",
    "x[:2] + x[2].upper() + x[3:]"
   ]
  },
  {
   "cell_type": "code",
   "execution_count": 62,
   "metadata": {},
   "outputs": [
    {
     "name": "stdout",
     "output_type": "stream",
     "text": [
      "Lütfen numerik rakam girmeyin.\n"
     ]
    }
   ],
   "source": [
    "kelime = input(\"Kelime\").lower()\n",
    "empty_list = []\n",
    "if kelime.isalpha():\n",
    "    for i in range(len(kelime)):\n",
    "        empty_list.append(kelime[:i] + kelime[i].upper() + kelime[i+1:])\n",
    "        \n",
    "    print(empty_list)\n",
    "else:\n",
    "    print(\"Lütfen numerik rakam girmeyin.\")\n",
    "    "
   ]
  },
  {
   "cell_type": "code",
   "execution_count": 4,
   "metadata": {},
   "outputs": [
    {
     "data": {
      "text/plain": [
       "'özgÜr'"
      ]
     },
     "execution_count": 4,
     "metadata": {},
     "output_type": "execute_result"
    }
   ],
   "source": [
    "y = \"özgür\"\n",
    "\n",
    "y[:3] + y[3].upper() + y[4:]"
   ]
  },
  {
   "attachments": {},
   "cell_type": "markdown",
   "metadata": {},
   "source": [
    "### Kullanıcıdan alınan sayının çarpım tablosunu çıktı olarak veren algoritmayı oluşturun ?\n"
   ]
  },
  {
   "cell_type": "code",
   "execution_count": 7,
   "metadata": {},
   "outputs": [
    {
     "name": "stdout",
     "output_type": "stream",
     "text": [
      "5 x 0  = 0\n",
      "5 x 1  = 5\n",
      "5 x 2  = 10\n",
      "5 x 3  = 15\n",
      "5 x 4  = 20\n",
      "5 x 5  = 25\n",
      "5 x 6  = 30\n",
      "5 x 7  = 35\n",
      "5 x 8  = 40\n",
      "5 x 9  = 45\n",
      "5 x 10 = 50\n"
     ]
    }
   ],
   "source": [
    "sayi = int(input(\"Sayı:\"))\n",
    "\n",
    "for i in range(11):\n",
    "    print(f\"{sayi} x {i:<2} = {sayi * i}\")"
   ]
  },
  {
   "attachments": {},
   "cell_type": "markdown",
   "metadata": {},
   "source": [
    "## Kullanıcıdan iki sayı alın. Bu sayılardan ilki ikincisinden büyükse bu sayılar arasındaki tüm sayıları büyükten küçüğe değilse küçükten büyüğe sıralayın."
   ]
  },
  {
   "cell_type": "code",
   "execution_count": 33,
   "metadata": {},
   "outputs": [
    {
     "name": "stdout",
     "output_type": "stream",
     "text": [
      "5\n"
     ]
    }
   ],
   "source": [
    "sayi1 = int(input(\"Sayı1:\"))\n",
    "sayi2 = int(input(\"Sayı2:\"))\n",
    "\n",
    "list = []\n",
    "\n",
    "if sayi1 > sayi2:\n",
    "    for i in range(sayi1,sayi2-1,-1):\n",
    "        list.append(i)\n",
    "    print(list) \n",
    "elif sayi1 < sayi2:\n",
    "    for i in range(sayi1,sayi2+1):\n",
    "        list.append(i)\n",
    "    print(list)\n",
    "else:\n",
    "    print(sayi1)\n",
    "\n",
    "   \n",
    "\n"
   ]
  },
  {
   "attachments": {},
   "cell_type": "markdown",
   "metadata": {},
   "source": [
    "### Birden fazla kelime içeren uzun bir dize varsayın ve bu dizeyi kelime kelime tersten yazdırın."
   ]
  },
  {
   "cell_type": "code",
   "execution_count": 52,
   "metadata": {},
   "outputs": [
    {
     "name": "stdout",
     "output_type": "stream",
     "text": [
      "old years 29 I'm and Emirhan is name My\n"
     ]
    }
   ],
   "source": [
    "name = \"My name is Emirhan and I'm 29 years old\"\n",
    "\n",
    "liste = name.split(\" \")[::-1]\n",
    "print(*liste)\n"
   ]
  },
  {
   "cell_type": "code",
   "execution_count": 51,
   "metadata": {},
   "outputs": [
    {
     "name": "stdout",
     "output_type": "stream",
     "text": [
      "old years 29 I'm and Emirhan is name My "
     ]
    }
   ],
   "source": [
    "name = \"My name is Emirhan and I'm 29 years old\"\n",
    "\n",
    "world_list = name.split(\" \")\n",
    "#print(world_list)\n",
    "\n",
    "n = len(world_list) - 1\n",
    "\n",
    "while n >= 0:\n",
    "    print(world_list[n], end=\" \")\n",
    "    n -= 1\n",
    "    \n",
    "\n"
   ]
  },
  {
   "cell_type": "code",
   "execution_count": 54,
   "metadata": {},
   "outputs": [
    {
     "name": "stdout",
     "output_type": "stream",
     "text": [
      "old years 29 I'm and Emirhan is name My\n"
     ]
    }
   ],
   "source": [
    "name = \"My name is Emirhan and I'm 29 years old\"\n",
    "\n",
    "world_list = name.split(\" \")\n",
    "\n",
    "for i in world_list:\n",
    "    aa = world_list[::-1]\n",
    "print(*aa)\n"
   ]
  },
  {
   "attachments": {},
   "cell_type": "markdown",
   "metadata": {},
   "source": [
    "### Bir daire ve dairenin içinde ve dışında iki kare hayal edin. Bir tamsayı (dairenin yarıçapı) alan ve iki karenin alanlarının farkını döndüren bir program oluşturun."
   ]
  },
  {
   "cell_type": "code",
   "execution_count": 61,
   "metadata": {},
   "outputs": [
    {
     "name": "stdout",
     "output_type": "stream",
     "text": [
      "Dış karenin iç kareden farkı: 50\n"
     ]
    }
   ],
   "source": [
    "yaricap = int(input(\"Yarıçap girin:\"))\n",
    "\n",
    "ic_kare_alan = (yaricap * yaricap / 2) * 4\n",
    "dıs_kare_alan = (yaricap * 2) ** 2\n",
    "print(f\"Dış karenin iç kareden farkı: {int(dıs_kare_alan - ic_kare_alan)}\") "
   ]
  },
  {
   "attachments": {},
   "cell_type": "markdown",
   "metadata": {},
   "source": [
    "### 1'den 50'ye kadar tamsayıları yineleyen bir Python programı yazın. Üçün katları için sayı yerine \"Big\", yedinin katları yerine \"Bang\" yazın. Hem üçün hem de yedinin katı olan sayılar için \"BigBang\" yazdırın."
   ]
  },
  {
   "cell_type": "code",
   "execution_count": 63,
   "metadata": {},
   "outputs": [
    {
     "name": "stdout",
     "output_type": "stream",
     "text": [
      "1\n",
      "2\n",
      "Big\n",
      "4\n",
      "5\n",
      "Big\n",
      "Bang\n",
      "8\n",
      "Big\n",
      "10\n",
      "11\n",
      "Big\n",
      "13\n",
      "Bang\n",
      "Big\n",
      "16\n",
      "17\n",
      "Big\n",
      "19\n",
      "20\n",
      "BigBang\n",
      "22\n",
      "23\n",
      "Big\n",
      "25\n",
      "26\n",
      "Big\n",
      "Bang\n",
      "29\n",
      "Big\n",
      "31\n",
      "32\n",
      "Big\n",
      "34\n",
      "Bang\n",
      "Big\n",
      "37\n",
      "38\n",
      "Big\n",
      "40\n",
      "41\n",
      "BigBang\n",
      "43\n",
      "44\n",
      "Big\n",
      "46\n",
      "47\n",
      "Big\n",
      "Bang\n",
      "50\n"
     ]
    }
   ],
   "source": [
    "for i in range(1,51):\n",
    "    if i % 3 == 0 and i % 7 == 0:\n",
    "        print(\"BigBang\")\n",
    "    elif i % 3 == 0:\n",
    "        print(\"Big\")\n",
    "    elif i % 7 == 0:\n",
    "        print(\"Bang\")\n",
    "    else:\n",
    "        print(i)\n"
   ]
  },
  {
   "attachments": {},
   "cell_type": "markdown",
   "metadata": {},
   "source": [
    "### Bir kelimenin birinci hecesinde kalın bir ünlü (a, ı, o, u) bulunuyorsa diğer hecelerdeki ünlülerde kalın, ince bir ünlü (e, i, ö, ü) bulunuyorsa diğer hecelerdeki ünlülerde ince olur.\n",
    "\n",
    "### Kullanıcıdan alınan kelimeye göre uyum testi yapan algoritmayı oluşturun."
   ]
  },
  {
   "cell_type": "code",
   "execution_count": 51,
   "metadata": {},
   "outputs": [
    {
     "name": "stdout",
     "output_type": "stream",
     "text": [
      "Kalın ünlü sayısı: 1\n",
      "İnce ünlü sayısı: 0\n",
      "Tek hece olduğundan büyük ünlü uyumu aranmaz.\n"
     ]
    }
   ],
   "source": [
    "kelime = input(\"Kelime girin:\")\n",
    "kalin_unlu = 0\n",
    "ince_unlu = 0\n",
    "\n",
    "for i in kelime:\n",
    "    if i in \"aouı\":\n",
    "        kalin_unlu += 1\n",
    "    elif i in \"eiöü\":\n",
    "        ince_unlu += 1\n",
    "\n",
    "print(f\"Kalın ünlü sayısı: {kalin_unlu}\")\n",
    "print(f\"İnce ünlü sayısı: {ince_unlu}\")\n",
    "if kalin_unlu > 0 or ince_unlu > 0:\n",
    "    \n",
    "    if kalin_unlu + ince_unlu == 1:\n",
    "         print(\"Tek hece olduğundan büyük ünlü uyumu aranmaz.\")\n",
    "    elif kalin_unlu * ince_unlu == 0:\n",
    "        print(\"Büyük ünlü uyumuna uyar.\")\n",
    "    else:\n",
    "        print(\"Büyük ünlü uyumuna uymaz.\")\n",
    "\n",
    "else:\n",
    "    print(\"Sesli harf yok.\")\n"
   ]
  },
  {
   "attachments": {},
   "cell_type": "markdown",
   "metadata": {},
   "source": [
    "#### Create an algorithm that if the place value of the number you get from the user is less than 3, print the square of the number instead,\n",
    "#### if greater than 3 and odd, print the 2 less of the number instead,\n",
    "#### if greater than 3 and even, print the 1 more of the number instead,\n",
    "#### if no valid value is entered, print \"invalid input\"."
   ]
  },
  {
   "cell_type": "code",
   "execution_count": 73,
   "metadata": {},
   "outputs": [
    {
     "name": "stdout",
     "output_type": "stream",
     "text": [
      "44576457636\n",
      "55357535797\n"
     ]
    }
   ],
   "source": [
    "sayi = input(\"Sayı girin\")\n",
    "\n",
    "sonuc = \"\"\n",
    "if sayi.isdigit():\n",
    "    for i in sayi:\n",
    "        if int(i) <= 3:\n",
    "            sonuc += str(int(i) ** 2)\n",
    "        elif int(i) % 2:\n",
    "            sonuc += str(int(i) - 2)\n",
    "        else:\n",
    "            sonuc += str(int(i) + 1)\n",
    "        \n",
    "else:\n",
    "    print(\"Geçersiz giriş\")\n",
    "print(sayi)\n",
    "print(sonuc)"
   ]
  },
  {
   "attachments": {},
   "cell_type": "markdown",
   "metadata": {},
   "source": [
    "### Build an algorithm that detects amicable numbers"
   ]
  },
  {
   "cell_type": "code",
   "execution_count": 92,
   "metadata": {},
   "outputs": [
    {
     "name": "stdout",
     "output_type": "stream",
     "text": [
      "Not Amicable Numbers\n"
     ]
    }
   ],
   "source": [
    "sayi = int(input(\"Sayı:\")) # 220\n",
    "\n",
    "toplam_i = 0\n",
    "for i in range(1,sayi):\n",
    "    if sayi % i == 0:\n",
    "        toplam_i += i  # toplam_i 284\n",
    "\n",
    "toplam_j = 0\n",
    "for j in range(1,toplam_i):\n",
    "    if toplam_i % j == 0:\n",
    "        toplam_j += j   # toplam_j 220\n",
    "\n",
    "if sayi == toplam_j:\n",
    "    print(\"Amicable Numbers\")\n",
    "else:\n",
    "    print(\"Not Amicable Numbers\")"
   ]
  },
  {
   "cell_type": "code",
   "execution_count": 104,
   "metadata": {},
   "outputs": [
    {
     "name": "stdout",
     "output_type": "stream",
     "text": [
      "1184 and 1210 are amicable numbers\n"
     ]
    }
   ],
   "source": [
    "number = int(input(\"enter a number\"))\n",
    "\n",
    "sum_i = 0\n",
    "for i in range(1,number):\n",
    "    if number % i == 0:\n",
    "        sum_i += i\n",
    "\n",
    "sum_j = 0\n",
    "for j in range(1,sum_i):\n",
    "    if  sum_i % j == 0:\n",
    "        sum_j += j\n",
    "\n",
    "if number == sum_j:\n",
    "    print(f\"{number} and {sum_i} are amicable numbers\")\n",
    "else:\n",
    "    print(f\"{number} is lovely number\")"
   ]
  },
  {
   "cell_type": "code",
   "execution_count": 107,
   "metadata": {},
   "outputs": [
    {
     "name": "stdout",
     "output_type": "stream",
     "text": [
      "145 is lovely number\n"
     ]
    }
   ],
   "source": [
    "number = int(input(\"enter a number\"))\n",
    "\n",
    "sum_i = sum([i for i in range(1,number) if number % i == 0 ])\n",
    "sum_j = sum([j for j in range(1,sum_i) if sum_i % j == 0])\n",
    "\n",
    "if number == sum_j:\n",
    "    print(f\"{number} and {sum_i} are amicable numbers\")\n",
    "else:\n",
    "    print(f\"{number} is lovely number\")"
   ]
  },
  {
   "attachments": {},
   "cell_type": "markdown",
   "metadata": {},
   "source": [
    "### Write a python code that returns the digits value of the given number in a list."
   ]
  },
  {
   "cell_type": "code",
   "execution_count": 110,
   "metadata": {},
   "outputs": [
    {
     "name": "stdout",
     "output_type": "stream",
     "text": [
      "[1000, 400, 50, 3]\n"
     ]
    }
   ],
   "source": [
    "a = [((10 ** 3) * 1), ((10 ** 2) * 4), ((10 ** 1) * 5), ((10 ** 0) * 3)]\n",
    "print(a)"
   ]
  },
  {
   "cell_type": "code",
   "execution_count": 175,
   "metadata": {},
   "outputs": [],
   "source": [
    "def number(x):\n",
    "    \n",
    "    count = 0\n",
    "    sonuc = []\n",
    "    for i in str(abs(x))[::-1]:\n",
    "        sonuc.append(int(i) * 10 ** count)\n",
    "        count += 1\n",
    "    \n",
    "    sonuc2 = []\n",
    "    if x < 0:\n",
    "        for i in sonuc[::-1]:\n",
    "            sonuc2.append(-i)\n",
    "            \n",
    "    else:\n",
    "        sonuc2 = sonuc[::-1]\n",
    "        \n",
    "    return sonuc2\n",
    "\n",
    "\n",
    "\n",
    "\n"
   ]
  },
  {
   "cell_type": "code",
   "execution_count": 160,
   "metadata": {},
   "outputs": [],
   "source": [
    "def number(x):\n",
    "    \n",
    "    count = 0\n",
    "    sonuc = []\n",
    "    for i in str(abs(x))[::-1]:\n",
    "        sonuc.append(int(i) * 10 ** count)\n",
    "        count += 1\n",
    "    \n",
    "    return sonuc[::-1] if x >= 0 else [-i for i in sonuc[::-1]]      \n",
    "   \n",
    "        \n",
    "    #return sonuc2\n",
    "\n"
   ]
  },
  {
   "cell_type": "code",
   "execution_count": 177,
   "metadata": {},
   "outputs": [
    {
     "data": {
      "text/plain": [
       "[1000, 400, 50, 3]"
      ]
     },
     "execution_count": 177,
     "metadata": {},
     "output_type": "execute_result"
    }
   ],
   "source": [
    "number(1453)"
   ]
  },
  {
   "cell_type": "code",
   "execution_count": 29,
   "metadata": {},
   "outputs": [],
   "source": [
    "def number(x):\n",
    "    count = 0\n",
    "    sonuc = []\n",
    "    for i in str(abs(x))[::-1]:\n",
    "        sonuc.append(int(i) * (10 ** count))\n",
    "        count += 1\n",
    "    \n",
    "    return sonuc[::-1] if x >= 0 else [-i for i in sonuc[::-1]]"
   ]
  },
  {
   "cell_type": "code",
   "execution_count": 31,
   "metadata": {},
   "outputs": [
    {
     "data": {
      "text/plain": [
       "[-1000, -400, -50, -3]"
      ]
     },
     "execution_count": 31,
     "metadata": {},
     "output_type": "execute_result"
    }
   ],
   "source": [
    "number(-1453)"
   ]
  },
  {
   "attachments": {},
   "cell_type": "markdown",
   "metadata": {},
   "source": [
    "### Armstrong Number\n",
    "### example: 153 >>> 1 ** 3 + 5 ** 3 + 3 ** 3"
   ]
  },
  {
   "cell_type": "code",
   "execution_count": 38,
   "metadata": {},
   "outputs": [
    {
     "name": "stdout",
     "output_type": "stream",
     "text": [
      "102 Armstrong sayısı değildir.\n"
     ]
    }
   ],
   "source": [
    "sayi = input(\"Sayı girin:\")\n",
    "toplam = 0\n",
    "for i in sayi:\n",
    "    toplam += int(i) ** (len(sayi))\n",
    "    \n",
    "if int(sayi) == toplam:\n",
    "    print(sayi,\"Armstrong sayısıdır.\")\n",
    "else:\n",
    "    print(sayi,\"Armstrong sayısı değildir.\")\n"
   ]
  },
  {
   "cell_type": "code",
   "execution_count": 1,
   "metadata": {},
   "outputs": [
    {
     "name": "stdout",
     "output_type": "stream",
     "text": [
      "[1, 2, 3, 4, 5, 6, 7, 8, 9, 153, 370, 370, 371, 407]\n"
     ]
    }
   ],
   "source": [
    "# 1'den 1000'e kadar olan sayılardan Armstrong sayısı olanları çıktı veren algoritmayı oluşturun ?\n",
    "empty_list = []\n",
    "for i in range(1,1000):\n",
    "    toplam = 0\n",
    "    for j in str(i):\n",
    "        x = int(j) ** len(str(i))\n",
    "        toplam += x\n",
    "        if i == toplam:\n",
    "            empty_list.append(i)\n",
    "print(empty_list)\n",
    "            \n"
   ]
  },
  {
   "cell_type": "code",
   "execution_count": 2,
   "metadata": {},
   "outputs": [
    {
     "name": "stdout",
     "output_type": "stream",
     "text": [
      "[1, 153, 370, 370, 371, 407]\n"
     ]
    }
   ],
   "source": [
    "liste=[]\n",
    "for i in range(1,1000):\n",
    "    a = 0 \n",
    "    for x in str(i):\n",
    "        b=int(x)**3\n",
    "        a+=b\n",
    "        if i==a:\n",
    "            liste.append(i)\n",
    "print(liste)"
   ]
  },
  {
   "attachments": {},
   "cell_type": "markdown",
   "metadata": {},
   "source": [
    "## Sayı tahmin oyunu"
   ]
  },
  {
   "cell_type": "code",
   "execution_count": 80,
   "metadata": {},
   "outputs": [
    {
     "name": "stdout",
     "output_type": "stream",
     "text": [
      "Tahminini azalt.\n",
      "Tahminini azalt.\n",
      "Tahminini azalt.\n",
      "Tahminini arttır.\n",
      "Tahminini arttır.\n",
      "Tahminini arttır.\n",
      "Tahminini arttır.\n",
      "Tahminini arttır.\n",
      "Tahminini arttır.\n",
      "Tahminini arttır.\n",
      "Tahminini arttır.\n",
      "Tebrikler. Doğru bildiniz.\n",
      "12\n"
     ]
    }
   ],
   "source": [
    "\n",
    "import random\n",
    "rastgele_sayi = random.randint(0,99)\n",
    "tahmin_sayisi = 0\n",
    "\n",
    "while True:\n",
    "    tahmin = int(input(\"Sayı girin:(0 ile 99 arasında)\"))\n",
    "    if rastgele_sayi > tahmin:\n",
    "        print(\"Tahminini arttır.\")\n",
    "        tahmin_sayisi +=1\n",
    "    elif rastgele_sayi < tahmin:\n",
    "        print(\"Tahminini azalt.\")\n",
    "        tahmin_sayisi += 1\n",
    "    else:\n",
    "        print(\"Tebrikler. Doğru bildiniz.\")\n",
    "        tahmin_sayisi += 1\n",
    "        break\n",
    "print(tahmin_sayisi)\n"
   ]
  },
  {
   "attachments": {},
   "cell_type": "markdown",
   "metadata": {},
   "source": [
    "### Kullanıcıdan aldığınız bir sayının mükemmel olup olmadığını bulmaya çalışın. Bölenlerinin toplamı kendisine eşit olan sayılara \"mükemmel sayı\" denir."
   ]
  },
  {
   "cell_type": "code",
   "execution_count": 6,
   "metadata": {},
   "outputs": [
    {
     "name": "stdout",
     "output_type": "stream",
     "text": [
      "6 is the perfect number\n"
     ]
    }
   ],
   "source": [
    "perfect_num = int(input(\"Enter a number\"))\n",
    "toplam = 0\n",
    "empty_list=[]\n",
    "for i in range(1,perfect_num):\n",
    "    if perfect_num % i == 0:\n",
    "        toplam += i\n",
    "\n",
    "if perfect_num == toplam:\n",
    "        print(perfect_num, \"is the perfect number\")\n",
    "else:\n",
    "        print(perfect_num, \"is not a perfect number\")\n"
   ]
  },
  {
   "cell_type": "code",
   "execution_count": 16,
   "metadata": {},
   "outputs": [
    {
     "name": "stdout",
     "output_type": "stream",
     "text": [
      "6 is the perfect number\n"
     ]
    }
   ],
   "source": [
    "perfect_num = int(input(\"Enter a number\"))\n",
    "if perfect_num == sum([i if perfect_num % i == 0 else 0 for i in range(1,perfect_num)]):\n",
    "    print(perfect_num, \"is the perfect number\")\n",
    "else:\n",
    "    print(perfect_num, \"is not a perfect number\")"
   ]
  },
  {
   "attachments": {},
   "cell_type": "markdown",
   "metadata": {},
   "source": [
    "## Bir cümlenin palindrom olup olmadığını kontrol eden bir program yazın."
   ]
  },
  {
   "cell_type": "code",
   "execution_count": 36,
   "metadata": {},
   "outputs": [
    {
     "name": "stdout",
     "output_type": "stream",
     "text": [
      "nursesrun is a palindrome expression.\n"
     ]
    }
   ],
   "source": [
    "palindrom = input(\"Enter a word\").replace(\" \",\"\").lower()\n",
    "if palindrom.isnumeric() or palindrom.isalpha():\n",
    "    if palindrom == palindrom[::-1]:\n",
    "        print(palindrom, \"is a palindrome expression.\")\n",
    "    else:\n",
    "        print(palindrom, \"palindrome is not an expression.\")"
   ]
  },
  {
   "cell_type": "code",
   "execution_count": 38,
   "metadata": {},
   "outputs": [
    {
     "data": {
      "text/plain": [
       "'a,b,c'"
      ]
     },
     "execution_count": 38,
     "metadata": {},
     "output_type": "execute_result"
    }
   ],
   "source": [
    "\"\".join(i.lower() for i in \"AbC12\" if i.isalpha()) "
   ]
  },
  {
   "cell_type": "code",
   "execution_count": 44,
   "metadata": {},
   "outputs": [
    {
     "name": "stdout",
     "output_type": "stream",
     "text": [
      "eyedipadanadapideye is palindrom\n"
     ]
    }
   ],
   "source": [
    "sentence = input(\"Enter a sentence\")\n",
    "edit_sentence = \"\".join(i.lower() for i in sentence if i.isalpha())\n",
    "if edit_sentence == edit_sentence[::-1]:\n",
    "    print(\"{} is palindrom\".format(edit_sentence))\n",
    "else:\n",
    "    print(\"{} is not palindrom\".format(edit_sentence))"
   ]
  },
  {
   "attachments": {},
   "cell_type": "markdown",
   "metadata": {},
   "source": [
    "### Prime Numbers (Asal Sayılar)"
   ]
  },
  {
   "cell_type": "code",
   "execution_count": 78,
   "metadata": {},
   "outputs": [
    {
     "name": "stdout",
     "output_type": "stream",
     "text": [
      "8 is not prime number\n"
     ]
    }
   ],
   "source": [
    "number = int(input(\"Enter a number\"))\n",
    "toplam = 0\n",
    "if number > 0:\n",
    "    for i in range(1,number+1):\n",
    "        if number % i != 0:\n",
    "            continue\n",
    "        else:\n",
    "            toplam += i\n",
    "    if toplam == number+1:\n",
    "        print(\"{} is prime number\".format(number))\n",
    "    else:\n",
    "        print(\"{} is not prime number\".format(number))\n",
    "else:\n",
    "    print(\"Please enter positive value\")\n"
   ]
  },
  {
   "cell_type": "code",
   "execution_count": 95,
   "metadata": {},
   "outputs": [
    {
     "name": "stdout",
     "output_type": "stream",
     "text": [
      "2\n",
      "3\n",
      "5\n",
      "7\n",
      "11\n",
      "13\n",
      "17\n",
      "19\n",
      "23\n",
      "29\n",
      "31\n",
      "37\n",
      "41\n",
      "43\n",
      "47\n"
     ]
    }
   ],
   "source": [
    "for sayi in range(2,50):\n",
    "    for i in range(2,sayi):\n",
    "        if sayi % i == 0:\n",
    "            break\n",
    "    else:\n",
    "        print(sayi)"
   ]
  },
  {
   "cell_type": "code",
   "execution_count": 96,
   "metadata": {},
   "outputs": [
    {
     "name": "stdout",
     "output_type": "stream",
     "text": [
      "2\n",
      "3\n",
      "5\n",
      "7\n",
      "11\n",
      "13\n",
      "17\n",
      "19\n",
      "23\n",
      "29\n",
      "31\n",
      "37\n",
      "41\n",
      "43\n",
      "47\n",
      "53\n",
      "59\n",
      "61\n",
      "67\n",
      "71\n",
      "73\n",
      "79\n",
      "83\n",
      "89\n",
      "97\n"
     ]
    }
   ],
   "source": [
    "for sayi in range(2,100):\n",
    "    for i in range(2,sayi):\n",
    "        if sayi % i == 0:\n",
    "            break\n",
    "    else:\n",
    "        print(sayi)"
   ]
  },
  {
   "attachments": {},
   "cell_type": "markdown",
   "metadata": {},
   "source": [
    "### İki pozitif tamsayının en büyük ortak bölenini hesaplayan bir Python programı yazın."
   ]
  },
  {
   "cell_type": "code",
   "execution_count": 7,
   "metadata": {},
   "outputs": [
    {
     "data": {
      "text/plain": [
       "4"
      ]
     },
     "execution_count": 7,
     "metadata": {},
     "output_type": "execute_result"
    }
   ],
   "source": [
    "sayi1 = int(input(\"Sayı girin:\"))\n",
    "sayi2 = int(input(\"Sayı girin:\"))\n",
    "\n",
    "list1 = []\n",
    "list2 = []\n",
    "list3 = []\n",
    "if sayi1 > 0 and sayi2 > 0:\n",
    "    for i in range(1,sayi1+1):\n",
    "        if sayi1 % i == 0:\n",
    "            list1.append(i)\n",
    "    for j in range(1,sayi2+1):\n",
    "        if sayi2 % j == 0:\n",
    "            list2.append(j)\n",
    "    for deger in list1:\n",
    "        if deger in list2:\n",
    "            list3.append(deger)\n",
    "max(list3)\n",
    "\n",
    "\n"
   ]
  },
  {
   "cell_type": "code",
   "execution_count": 18,
   "metadata": {},
   "outputs": [
    {
     "name": "stdout",
     "output_type": "stream",
     "text": [
      "GCD is 12\n"
     ]
    }
   ],
   "source": [
    "sayi1 = int(input(\"Sayı girin:\"))\n",
    "sayi2 = int(input(\"Sayı girin:\"))\n",
    "\n",
    "i = 1\n",
    "while(i <= sayi1 and i <= sayi2):\n",
    "    if (sayi1 % i == 0 and sayi2 % i == 0):\n",
    "        gcd = i\n",
    "    i += 1\n",
    "print(f\"GCD is {gcd}\")\n"
   ]
  },
  {
   "attachments": {},
   "cell_type": "markdown",
   "metadata": {},
   "source": [
    "### Take a sentence from the user and find the number of alphabetic characters"
   ]
  },
  {
   "cell_type": "code",
   "execution_count": 9,
   "metadata": {},
   "outputs": [
    {
     "name": "stdout",
     "output_type": "stream",
     "text": [
      "[('H', 1), ('e', 1), ('l', 3), ('o', 2), ('W', 1), ('r', 1), ('d', 1)]\n"
     ]
    }
   ],
   "source": [
    "cümle = input(\"Kelime ya da cümle girin:\")\n",
    "list = []\n",
    "\n",
    "for i in cümle:\n",
    "    if i.isalpha():\n",
    "        list.append(i)\n",
    "list2 = []\n",
    "for i in range(len(list)):\n",
    "    if (list[i], list.count(list[i])) not in list2:\n",
    "        list2.append((list[i], list.count(list[i])))\n",
    "\n",
    "print(list2)\n",
    "    \n",
    "#print(list[i], list.count(list[i]))\n",
    "#print(list)"
   ]
  },
  {
   "cell_type": "code",
   "execution_count": 17,
   "metadata": {},
   "outputs": [
    {
     "name": "stdout",
     "output_type": "stream",
     "text": [
      "{'ö': 1, 'z': 1, 'g': 1, 'ü': 1, 'r': 1, 'a': 2, 'k': 1, 't': 1, 'ş': 1}\n"
     ]
    }
   ],
   "source": [
    "# dict yöntemi\n",
    "cümle = input(\"Kelime ya da cümle girin:\")\n",
    "my_dict = dict()\n",
    "\n",
    "for i in cümle:\n",
    "    if i.isalpha():\n",
    "        if i in my_dict:\n",
    "            my_dict[i] += 1\n",
    "        else:\n",
    "            my_dict[i] = 1\n",
    "\n",
    "print(my_dict)\n"
   ]
  },
  {
   "attachments": {},
   "cell_type": "markdown",
   "metadata": {},
   "source": [
    "### Given two arrays -list1 and list2- construct an algorithm that returns the elements of list1 which are subarrays of list2.\n"
   ]
  },
  {
   "cell_type": "markdown",
   "metadata": {},
   "source": []
  },
  {
   "cell_type": "code",
   "execution_count": 40,
   "metadata": {},
   "outputs": [
    {
     "name": "stdout",
     "output_type": "stream",
     "text": [
      "and\n",
      "old\n",
      "int\n"
     ]
    }
   ],
   "source": [
    "list1 = [\"old\",\"int\",\"age\",\"and\"]\n",
    "list2 = [\"random\",\"soldier\",\"list\",\"print\"]\n",
    "\n",
    "for i in list2:\n",
    "    if \"old\" in i:\n",
    "        print(\"old\")\n",
    "    elif \"int\" in i:\n",
    "        print(\"int\")\n",
    "    elif \"age\" in i:\n",
    "        print(\"age\")\n",
    "    elif \"and\" in i:\n",
    "        print(\"and\")\n",
    "    "
   ]
  },
  {
   "cell_type": "code",
   "execution_count": 6,
   "metadata": {},
   "outputs": [
    {
     "name": "stdout",
     "output_type": "stream",
     "text": [
      "['old', 'int', 'and']\n"
     ]
    }
   ],
   "source": [
    "list1 = [\"old\",\"int\",\"age\",\"and\"]\n",
    "list2 = [\"random\",\"soldier\",\"list\",\"print\"]\n",
    "list = []\n",
    "for i in list1:\n",
    "    for j in list2:\n",
    "        if i in j:\n",
    "            list.append(i)\n",
    "print(list)\n",
    "            "
   ]
  },
  {
   "cell_type": "code",
   "execution_count": 1,
   "metadata": {},
   "outputs": [
    {
     "data": {
      "text/plain": [
       "['and', 'old', 'int']"
      ]
     },
     "execution_count": 1,
     "metadata": {},
     "output_type": "execute_result"
    }
   ],
   "source": [
    "def intertwined(list1,list2):\n",
    "    \n",
    "    return list(set([i for i in list1 for j in list2 if i in j]))\n",
    "\n",
    "intertwined([\"old\",\"int\",\"age\",\"and\"],[\"random\",\"soldier\",\"list\",\"print\",\"introduction\"])"
   ]
  },
  {
   "attachments": {},
   "cell_type": "markdown",
   "metadata": {},
   "source": [
    "### Verilen bir dizide tek sayıları sıralı,çift sayıları orijinal konumlarında tutan bir algoritma oluşturun."
   ]
  },
  {
   "cell_type": "code",
   "execution_count": 69,
   "metadata": {},
   "outputs": [
    {
     "data": {
      "text/plain": [
       "[3, 8, 6, 5, 4]"
      ]
     },
     "execution_count": 69,
     "metadata": {},
     "output_type": "execute_result"
    }
   ],
   "source": [
    "\n",
    "def dizi(sayilar):\n",
    "    tek = [i for i in sayilar if i % 2]\n",
    "    tek = sorted(tek)\n",
    "    \n",
    "    k = 0\n",
    "    list = []\n",
    "    for i in sayilar:\n",
    "        if i % 2:\n",
    "            list.append(tek[k])\n",
    "            k += 1\n",
    "        else:\n",
    "            list.append(i)\n",
    "    return list\n",
    "\n",
    "dizi([5,8,6,3,4])\n",
    "    "
   ]
  },
  {
   "cell_type": "code",
   "execution_count": 70,
   "metadata": {},
   "outputs": [
    {
     "data": {
      "text/plain": [
       "[3, 8, 6, 5, 4]"
      ]
     },
     "execution_count": 70,
     "metadata": {},
     "output_type": "execute_result"
    }
   ],
   "source": [
    "def dizi(sayilar):\n",
    "    tek = [i for i in sayilar if i % 2]\n",
    "    tek = sorted(tek)\n",
    "\n",
    "    l = 0\n",
    "    list = []\n",
    "    for i in sayilar:\n",
    "        if i % 2:\n",
    "            list.append(tek[l])\n",
    "            l += 1\n",
    "        else:\n",
    "            list.append(i)\n",
    "    return list\n",
    "\n",
    "dizi([5,8,6,3,4])"
   ]
  },
  {
   "attachments": {},
   "cell_type": "markdown",
   "metadata": {},
   "source": [
    "### Given a list of tuples, implement a method that sort a list in ascending order by the second element inside the tuples and return the list"
   ]
  },
  {
   "cell_type": "code",
   "execution_count": 53,
   "metadata": {},
   "outputs": [
    {
     "name": "stdout",
     "output_type": "stream",
     "text": [
      "[('Louie', 0), ('John', 1), ('Jade', 2), ('Lisa', 3), ('Rose', 6)]\n"
     ]
    }
   ],
   "source": [
    "list1 = [(\"John\",1), (\"Jade\",2), (\"Lisa\",3), (\"Rose\",6), (\"Louie\",0)]\n",
    "empty_list = []\n",
    "empty_list2 = []\n",
    "for i in list1:\n",
    "    ters = i[::-1]\n",
    "    empty_list.append(ters)\n",
    "    empty_list.sort()\n",
    "for j in empty_list:\n",
    "    ters1 = j[::-1]\n",
    "    empty_list2.append(ters1)\n",
    "\n",
    "print(empty_list2)\n",
    "    \n"
   ]
  },
  {
   "cell_type": "code",
   "execution_count": 58,
   "metadata": {},
   "outputs": [
    {
     "name": "stdout",
     "output_type": "stream",
     "text": [
      "[('Louie', 0), ('John', 1), ('Jade', 2), ('Lisa', 3), ('Rose', 6)]\n"
     ]
    }
   ],
   "source": [
    "list1 = [(\"John\",1), (\"Jade\",2), (\"Lisa\",3), (\"Rose\",6), (\"Louie\",0)]\n",
    "empty_list = []\n",
    "for i in range(0,7):\n",
    "    for j in list1:\n",
    "        if j[1] == i:\n",
    "            empty_list.append(j)\n",
    "print(empty_list)\n"
   ]
  },
  {
   "cell_type": "code",
   "execution_count": 35,
   "metadata": {},
   "outputs": [
    {
     "name": "stdout",
     "output_type": "stream",
     "text": [
      "100\n"
     ]
    }
   ],
   "source": [
    "x = lambda a,b = 2 : a*b\n",
    "print(x(10,10))"
   ]
  },
  {
   "cell_type": "code",
   "execution_count": 47,
   "metadata": {},
   "outputs": [
    {
     "data": {
      "text/plain": [
       "[('Louie', 0), ('John', 1), ('Jade', 2), ('Lisa', 3), ('Rose', 6)]"
      ]
     },
     "execution_count": 47,
     "metadata": {},
     "output_type": "execute_result"
    }
   ],
   "source": [
    "sorted(list1, key = lambda x : x[1])"
   ]
  },
  {
   "attachments": {},
   "cell_type": "markdown",
   "metadata": {},
   "source": [
    "### Kendisinden sonraki sayıdan büyük olan sayıları yazdıran bir algoritma oluşturun."
   ]
  },
  {
   "cell_type": "code",
   "execution_count": 54,
   "metadata": {},
   "outputs": [
    {
     "name": "stdout",
     "output_type": "stream",
     "text": [
      "[3, 2, 1]\n",
      "[13, 11, 9, 5]\n"
     ]
    }
   ],
   "source": [
    "list1 = [3, 13, 11, 2, 1, 9, 5]\n",
    "list2 = []\n",
    "\n",
    "for i in range(0,len(list1)):\n",
    "    if list1[i] < max(list1[i:]):\n",
    "        list2.append(list1[i])\n",
    "\n",
    "print(list2)\n",
    "other = {i for i in list1 if i not in list2}\n",
    "\n",
    "print(sorted(list(other),reverse=True))\n",
    "            \n",
    "            "
   ]
  },
  {
   "cell_type": "code",
   "execution_count": 56,
   "metadata": {},
   "outputs": [
    {
     "name": "stdout",
     "output_type": "stream",
     "text": [
      "[3, 2, 1]\n",
      "[13, 11, 9, 5]\n"
     ]
    }
   ],
   "source": [
    "list1 = [3, 13, 11, 2, 1, 9, 5]\n",
    "\n",
    "list2 = [list1[i] for i in range(0,len(list1)) if list1[i] < max(list1[i:])]\n",
    "\n",
    "print(list2)\n",
    "other = {i for i in list1 if i not in list2}\n",
    "\n",
    "print(sorted(list(other),reverse=True))"
   ]
  },
  {
   "cell_type": "code",
   "execution_count": 4,
   "metadata": {},
   "outputs": [
    {
     "name": "stdout",
     "output_type": "stream",
     "text": [
      "[13, 11, 9, 5]\n"
     ]
    }
   ],
   "source": [
    "list1 = [3, 13, 11, 2, 1, 9, 5]\n",
    "list2 = []\n",
    "\n",
    "for i in range(0, len(list1)):\n",
    "    if list1[i] >= max(list1[i:]):\n",
    "        list2.append(list1[i])\n",
    "print(list2)\n"
   ]
  },
  {
   "attachments": {},
   "cell_type": "markdown",
   "metadata": {},
   "source": [
    "### Collatz serisi oluşturmak için kullanıcıdan bir tamsayı alın. Seriyi ve serinin en büyük tam sayısını döndüren bir algoritma oluşturun."
   ]
  },
  {
   "cell_type": "code",
   "execution_count": 13,
   "metadata": {},
   "outputs": [
    {
     "data": {
      "text/plain": [
       "1"
      ]
     },
     "execution_count": 13,
     "metadata": {},
     "output_type": "execute_result"
    }
   ],
   "source": [
    "x = 4\n",
    "y = x / 2\n",
    "int(y / 2)"
   ]
  },
  {
   "cell_type": "code",
   "execution_count": 11,
   "metadata": {},
   "outputs": [
    {
     "name": "stdout",
     "output_type": "stream",
     "text": [
      "[34, 17, 52, 26, 13, 40, 20, 10, 5, 16, 8, 4, 2, 1]\n",
      "max number is: 52\n"
     ]
    }
   ],
   "source": [
    "sayi = int(input(\"Bir sayı girin:\"))\n",
    "\n",
    "liste = []\n",
    "while sayi != 1:\n",
    "    if sayi % 2 == 0:\n",
    "        sayi = int(sayi / 2)\n",
    "        liste.append(sayi)\n",
    "    else:\n",
    "        sayi = (sayi*3)+1\n",
    "        liste.append(sayi)\n",
    "print(liste)\n",
    "print(f\"max number is: {max(liste)}\")\n",
    "        "
   ]
  },
  {
   "cell_type": "code",
   "execution_count": 14,
   "metadata": {},
   "outputs": [
    {
     "name": "stdout",
     "output_type": "stream",
     "text": [
      "[11, 34, 17, 52, 26, 13, 40, 20, 10, 5, 16, 8, 4, 2, 1]\n",
      "max number is: 52\n"
     ]
    }
   ],
   "source": [
    "sayi = int(input(\"Enter a number\"))\n",
    "\n",
    "def collatz(number):\n",
    "    liste = []\n",
    "    liste.append(number)\n",
    "    while number != 1:\n",
    "        if number % 2 == 0:\n",
    "            number = int(number / 2)\n",
    "            liste.append(number)\n",
    "        else:\n",
    "            number = (number * 3)+1\n",
    "            liste.append(number)\n",
    "    print(liste)\n",
    "collatz(sayi)\n",
    "print(\"max number is: {}\".format(max(liste)))\n"
   ]
  },
  {
   "attachments": {},
   "cell_type": "markdown",
   "metadata": {},
   "source": [
    "### There are number of lockers 'n' and number of students 'n' in the school.\n",
    "### The principal asks the first student to go to every locker and open it. Then he has the second student go to every second locker and close it.\n",
    "### The third goes to every third locker and, if it is closed, he opens it, and if it is open, he closes it. The fourth student does this to every fourth locker, and so on. After the process is completed with the 'n'th student, how many lockers are open?"
   ]
  },
  {
   "cell_type": "markdown",
   "metadata": {},
   "source": []
  },
  {
   "attachments": {},
   "cell_type": "markdown",
   "metadata": {},
   "source": [
    "[0, ] : closed    [X, ] : open    [0, 0, 0, 0, 0, 0, 0]"
   ]
  },
  {
   "cell_type": "code",
   "execution_count": 51,
   "metadata": {},
   "outputs": [
    {
     "data": {
      "text/plain": [
       "22"
      ]
     },
     "execution_count": 51,
     "metadata": {},
     "output_type": "execute_result"
    }
   ],
   "source": [
    "def locker(x):\n",
    "    locker = [0 for i in range(x)]\n",
    "    for i in range(x):\n",
    "        for j in range(i,x,i+1):\n",
    "            if locker[j] == 0:\n",
    "                locker[j] = 1\n",
    "            elif locker[j] == 1:\n",
    "                locker[j] = 0\n",
    "    return locker.count(1)\n",
    "locker(500)\n",
    "    \n"
   ]
  },
  {
   "cell_type": "code",
   "execution_count": 53,
   "metadata": {},
   "outputs": [
    {
     "data": {
      "text/plain": [
       "22"
      ]
     },
     "execution_count": 53,
     "metadata": {},
     "output_type": "execute_result"
    }
   ],
   "source": [
    "sayi = int(input(\"Sayı girin\"))\n",
    "\n",
    "def locker(sayi):\n",
    "    locker = [0 for i in range(sayi)]\n",
    "    for i in range(sayi):\n",
    "        for j in range(i,sayi,i+1):\n",
    "            if locker[j] == 0:\n",
    "                locker[j] = 1\n",
    "            elif locker[j] == 1:\n",
    "                locker[j] = 0\n",
    "    return locker.count(1)\n",
    "locker(sayi)"
   ]
  },
  {
   "cell_type": "markdown",
   "metadata": {},
   "source": []
  },
  {
   "cell_type": "code",
   "execution_count": 8,
   "metadata": {},
   "outputs": [
    {
     "data": {
      "text/plain": [
       "[[1, 7], [2, 6], [3, 5], [4, 4]]"
      ]
     },
     "execution_count": 8,
     "metadata": {},
     "output_type": "execute_result"
    }
   ],
   "source": [
    "\n",
    "def eslestirme(list1):\n",
    "    empty_list = []\n",
    "    for i in range(len(list1) // 2):\n",
    "        empty_list.append([list1[i],list1[-1-i]])\n",
    "    if len(list1) % 2 == 1:\n",
    "        empty_list.append([list1[len(list1) // 2], list1[len(list1) // 2]])\n",
    "    return empty_list\n",
    "eslestirme([1,2,3,4,5,6,7])\n",
    "\n",
    "            \n"
   ]
  },
  {
   "cell_type": "code",
   "execution_count": 11,
   "metadata": {},
   "outputs": [
    {
     "data": {
      "text/plain": [
       "[[1, 6], [2, 5], [3, 4]]"
      ]
     },
     "execution_count": 11,
     "metadata": {},
     "output_type": "execute_result"
    }
   ],
   "source": [
    "def eslestirme(list1):\n",
    "    empty_list = []\n",
    "    for i in range(len(list1) // 2):\n",
    "        empty_list.append([list1[i],list1[-1-i]])\n",
    "    if len(list1) % 2 == 1:\n",
    "        empty_list.append([list1[len(list1) // 2], list1[len(list1) // 2]])\n",
    "    return empty_list\n",
    "eslestirme([1,2,3,4,5,6])"
   ]
  }
 ],
 "metadata": {
  "kernelspec": {
   "display_name": "base",
   "language": "python",
   "name": "python3"
  },
  "language_info": {
   "codemirror_mode": {
    "name": "ipython",
    "version": 3
   },
   "file_extension": ".py",
   "mimetype": "text/x-python",
   "name": "python",
   "nbconvert_exporter": "python",
   "pygments_lexer": "ipython3",
   "version": "3.9.12"
  },
  "orig_nbformat": 4,
  "vscode": {
   "interpreter": {
    "hash": "875f02f927ff789742ebe739606a64278d49e89bb93d2e50f440b0eaa534aac3"
   }
  }
 },
 "nbformat": 4,
 "nbformat_minor": 2
}
